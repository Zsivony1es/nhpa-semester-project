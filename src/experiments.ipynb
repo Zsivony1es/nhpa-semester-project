{
 "cells": [
  {
   "cell_type": "code",
   "execution_count": 1,
   "metadata": {
    "ExecuteTime": {
     "end_time": "2024-01-30T10:48:11.100313Z",
     "start_time": "2024-01-30T10:48:10.583379Z"
    }
   },
   "outputs": [],
   "source": [
    "import numpy as np\n",
    "import matplotlib.pyplot as plt\n",
    "import logging\n",
    "\n",
    "from experimentcontroller import ExperimentController\n",
    "from utilities import Utilities"
   ]
  },
  {
   "cell_type": "code",
   "outputs": [],
   "source": [
    "# Set up logging\n",
    "logger = logging.getLogger()\n",
    "logger.setLevel(logging.WARN)"
   ],
   "metadata": {
    "collapsed": false,
    "ExecuteTime": {
     "end_time": "2024-01-30T10:48:11.591820Z",
     "start_time": "2024-01-30T10:48:11.587015Z"
    }
   },
   "execution_count": 2
  },
  {
   "cell_type": "markdown",
   "source": [
    "# Experiments\n",
    "### Fixed $c$, increasing dimensions\n",
    "\n",
    "In the following section I will test the algorithm's accuracy on matrices where the matching dimensions are increased, and everything else stays constant.\n",
    "$$ $$\n",
    "Random matrices with entries in $\\[0,1\\]$, sparse (density = 0.01) and dense\n",
    "$ \\delta = 0.05 \\quad c = 50 \\quad$ For dimensions 50 -> 1000 with increment of 50."
   ],
   "metadata": {
    "collapsed": false
   }
  },
  {
   "cell_type": "code",
   "outputs": [],
   "source": [
    "matrix_type_opts = ['dense', 'sparse']\n",
    "prob_dist_type_opts = ['uniform', 'opt']\n",
    "entries_type_opts = ['frac', 'int', 'float']\n",
    "\n",
    "\n",
    "fix_delta = 0.05\n",
    "\n",
    "exp_controller = ExperimentController()\n",
    "exp_controller.normalize_error(False)\n",
    "exp_controller.set_delta(fix_delta)\n",
    "exp_controller.set_algorithm(\"emm\")"
   ],
   "metadata": {
    "collapsed": false,
    "ExecuteTime": {
     "end_time": "2024-01-30T10:48:12.951875Z",
     "start_time": "2024-01-30T10:48:12.939071Z"
    }
   },
   "execution_count": 3
  },
  {
   "cell_type": "code",
   "outputs": [
    {
     "name": "stdout",
     "output_type": "stream",
     "text": [
      "Calculating with options: dense, uniform\n",
      "Calculating for A: (50 x 50)   B: (50 x 50)\n",
      "Calculating for A: (100 x 100)   B: (100 x 100)\n",
      "Calculating for A: (150 x 150)   B: (150 x 150)\n",
      "Calculating for A: (200 x 200)   B: (200 x 200)\n",
      "Calculating for A: (250 x 250)   B: (250 x 250)\n",
      "Calculating for A: (300 x 300)   B: (300 x 300)\n",
      "Calculating for A: (350 x 350)   B: (350 x 350)\n",
      "Calculating for A: (400 x 400)   B: (400 x 400)\n",
      "Calculating for A: (450 x 450)   B: (450 x 450)\n",
      "Calculating for A: (500 x 500)   B: (500 x 500)\n",
      "Calculating for A: (550 x 550)   B: (550 x 550)\n",
      "Calculating for A: (600 x 600)   B: (600 x 600)\n",
      "Calculating for A: (650 x 650)   B: (650 x 650)\n",
      "Calculating for A: (700 x 700)   B: (700 x 700)\n",
      "Calculating for A: (750 x 750)   B: (750 x 750)\n",
      "Calculating for A: (800 x 800)   B: (800 x 800)\n",
      "Calculating for A: (850 x 850)   B: (850 x 850)\n",
      "Calculating for A: (900 x 900)   B: (900 x 900)\n",
      "Calculating for A: (950 x 950)   B: (950 x 950)\n",
      "Calculating for A: (1000 x 1000)   B: (1000 x 1000)\n",
      "Calculating with options: dense, opt\n",
      "Calculating for A: (50 x 50)   B: (50 x 50)\n",
      "Calculating for A: (100 x 100)   B: (100 x 100)\n",
      "Calculating for A: (150 x 150)   B: (150 x 150)\n",
      "Calculating for A: (200 x 200)   B: (200 x 200)\n",
      "Calculating for A: (250 x 250)   B: (250 x 250)\n",
      "Calculating for A: (300 x 300)   B: (300 x 300)\n",
      "Calculating for A: (350 x 350)   B: (350 x 350)\n",
      "Calculating for A: (400 x 400)   B: (400 x 400)\n",
      "Calculating for A: (450 x 450)   B: (450 x 450)\n",
      "Calculating for A: (500 x 500)   B: (500 x 500)\n",
      "Calculating for A: (550 x 550)   B: (550 x 550)\n",
      "Calculating for A: (600 x 600)   B: (600 x 600)\n",
      "Calculating for A: (650 x 650)   B: (650 x 650)\n",
      "Calculating for A: (700 x 700)   B: (700 x 700)\n",
      "Calculating for A: (750 x 750)   B: (750 x 750)\n",
      "Calculating for A: (800 x 800)   B: (800 x 800)\n",
      "Calculating for A: (850 x 850)   B: (850 x 850)\n",
      "Calculating for A: (900 x 900)   B: (900 x 900)\n",
      "Calculating for A: (950 x 950)   B: (950 x 950)\n",
      "Calculating for A: (1000 x 1000)   B: (1000 x 1000)\n",
      "Calculating with options: sparse, uniform\n",
      "Calculating for A: (50 x 50)   B: (50 x 50)\n",
      "Calculating for A: (100 x 100)   B: (100 x 100)\n",
      "Calculating for A: (150 x 150)   B: (150 x 150)\n",
      "Calculating for A: (200 x 200)   B: (200 x 200)\n",
      "Calculating for A: (250 x 250)   B: (250 x 250)\n",
      "Calculating for A: (300 x 300)   B: (300 x 300)\n",
      "Calculating for A: (350 x 350)   B: (350 x 350)\n",
      "Calculating for A: (400 x 400)   B: (400 x 400)\n",
      "Calculating for A: (450 x 450)   B: (450 x 450)\n",
      "Calculating for A: (500 x 500)   B: (500 x 500)\n",
      "Calculating for A: (550 x 550)   B: (550 x 550)\n",
      "Calculating for A: (600 x 600)   B: (600 x 600)\n",
      "Calculating for A: (650 x 650)   B: (650 x 650)\n",
      "Calculating for A: (700 x 700)   B: (700 x 700)\n",
      "Calculating for A: (750 x 750)   B: (750 x 750)\n",
      "Calculating for A: (800 x 800)   B: (800 x 800)\n",
      "Calculating for A: (850 x 850)   B: (850 x 850)\n",
      "Calculating for A: (900 x 900)   B: (900 x 900)\n",
      "Calculating for A: (950 x 950)   B: (950 x 950)\n",
      "Calculating for A: (1000 x 1000)   B: (1000 x 1000)\n",
      "Calculating with options: sparse, opt\n",
      "Calculating for A: (50 x 50)   B: (50 x 50)\n",
      "Calculating for A: (100 x 100)   B: (100 x 100)\n",
      "Calculating for A: (150 x 150)   B: (150 x 150)\n",
      "Calculating for A: (200 x 200)   B: (200 x 200)\n",
      "Calculating for A: (250 x 250)   B: (250 x 250)\n",
      "Calculating for A: (300 x 300)   B: (300 x 300)\n",
      "Calculating for A: (350 x 350)   B: (350 x 350)\n",
      "Calculating for A: (400 x 400)   B: (400 x 400)\n",
      "Calculating for A: (450 x 450)   B: (450 x 450)\n",
      "Calculating for A: (500 x 500)   B: (500 x 500)\n",
      "Calculating for A: (550 x 550)   B: (550 x 550)\n",
      "Calculating for A: (600 x 600)   B: (600 x 600)\n",
      "Calculating for A: (650 x 650)   B: (650 x 650)\n",
      "Calculating for A: (700 x 700)   B: (700 x 700)\n",
      "Calculating for A: (750 x 750)   B: (750 x 750)\n",
      "Calculating for A: (800 x 800)   B: (800 x 800)\n",
      "Calculating for A: (850 x 850)   B: (850 x 850)\n",
      "Calculating for A: (900 x 900)   B: (900 x 900)\n",
      "Calculating for A: (950 x 950)   B: (950 x 950)\n",
      "Calculating for A: (1000 x 1000)   B: (1000 x 1000)\n"
     ]
    }
   ],
   "source": [
    "# Use with BMM\n",
    "dimensions = [] + list(range(50, 1001, 50))\n",
    "fix_dim = 100\n",
    "fix_c = 50\n",
    "\n",
    "a_dims = np.column_stack((np.full(len(dimensions), fill_value=fix_dim), dimensions))\n",
    "b_dims = np.column_stack((dimensions, np.full(len(dimensions), fill_value=fix_dim)))\n",
    "\n",
    "# Use with EMM\n",
    "b_dims = a_dims = np.array([[50 + i * 50, 50 + i * 50] for i in range(20)])\n",
    "\n",
    "error_bound_lists = []\n",
    "\n",
    "for matrix_type in matrix_type_opts:\n",
    "    exp_controller.set_matrix_type(matrix_type)\n",
    "    for prob_dist in prob_dist_type_opts:\n",
    "        exp_controller.set_prob_dist_type(prob_dist)\n",
    "        print(f\"Calculating with options: {matrix_type}, {prob_dist}\")\n",
    "        error_bound_lists.append(exp_controller.changing_dim_const_c(\n",
    "            a_dims=a_dims,\n",
    "            b_dims=b_dims,\n",
    "            c = fix_c\n",
    "            )\n",
    "        )"
   ],
   "metadata": {
    "collapsed": false,
    "ExecuteTime": {
     "end_time": "2024-01-30T10:54:46.336549Z",
     "start_time": "2024-01-30T10:51:48.629922Z"
    }
   },
   "execution_count": 8
  },
  {
   "cell_type": "code",
   "outputs": [
    {
     "ename": "NameError",
     "evalue": "name 'error_bound_lists' is not defined",
     "output_type": "error",
     "traceback": [
      "\u001B[0;31m---------------------------------------------------------------------------\u001B[0m",
      "\u001B[0;31mNameError\u001B[0m                                 Traceback (most recent call last)",
      "Cell \u001B[0;32mIn[4], line 12\u001B[0m\n\u001B[1;32m      9\u001B[0m ax\u001B[38;5;241m.\u001B[39mset_yscale(\u001B[38;5;124m'\u001B[39m\u001B[38;5;124mlog\u001B[39m\u001B[38;5;124m'\u001B[39m)\n\u001B[1;32m     11\u001B[0m color_map \u001B[38;5;241m=\u001B[39m [\u001B[38;5;124m'\u001B[39m\u001B[38;5;124mb\u001B[39m\u001B[38;5;124m'\u001B[39m, \u001B[38;5;124m'\u001B[39m\u001B[38;5;124mr\u001B[39m\u001B[38;5;124m'\u001B[39m, \u001B[38;5;124m'\u001B[39m\u001B[38;5;124mg\u001B[39m\u001B[38;5;124m'\u001B[39m, \u001B[38;5;124m'\u001B[39m\u001B[38;5;124my\u001B[39m\u001B[38;5;124m'\u001B[39m]\n\u001B[0;32m---> 12\u001B[0m \u001B[38;5;28;01mfor\u001B[39;00m index, (errors, bounds) \u001B[38;5;129;01min\u001B[39;00m \u001B[38;5;28menumerate\u001B[39m(\u001B[43merror_bound_lists\u001B[49m):\n\u001B[1;32m     13\u001B[0m     \u001B[38;5;28;01mif\u001B[39;00m index \u001B[38;5;129;01min\u001B[39;00m [\u001B[38;5;241m0\u001B[39m,\u001B[38;5;241m1\u001B[39m]:\n\u001B[1;32m     14\u001B[0m         plt\u001B[38;5;241m.\u001B[39merrorbar(dimensions, errors, label\u001B[38;5;241m=\u001B[39m\u001B[38;5;124mf\u001B[39m\u001B[38;5;124m\"\u001B[39m\u001B[38;5;124merror_\u001B[39m\u001B[38;5;132;01m{\u001B[39;00mUtilities\u001B[38;5;241m.\u001B[39mmap_to_type(index)\u001B[38;5;132;01m}\u001B[39;00m\u001B[38;5;124m\"\u001B[39m, color\u001B[38;5;241m=\u001B[39mcolor_map[index])\n",
      "\u001B[0;31mNameError\u001B[0m: name 'error_bound_lists' is not defined"
     ]
    },
    {
     "data": {
      "text/plain": "<Figure size 640x480 with 1 Axes>",
      "image/png": "[encoded data removed]"
     },
     "metadata": {},
     "output_type": "display_data"
    }
   ],
   "source": [
    "# Eliminate matplotlib log output\n",
    "logger.setLevel(logging.WARN)\n",
    "\n",
    "# Plot results\n",
    "\n",
    "fig = plt.figure()\n",
    "yerr = np.linspace(1, 1, 100_000)\n",
    "ax = fig.add_subplot(2, 1, 1)\n",
    "ax.set_yscale('log')\n",
    "\n",
    "color_map = ['b', 'r', 'g', 'y']\n",
    "for index, (errors, bounds) in enumerate(error_bound_lists):\n",
    "    if index in [0,1]:\n",
    "        plt.errorbar(dimensions, errors, label=f\"error_{Utilities.map_to_type(index)}\", color=color_map[index])\n",
    "        plt.errorbar(dimensions, bounds, label=f\"bound_{Utilities.map_to_type(index)}\", uplims=True, fmt='--', color=color_map[index])\n",
    "\n",
    "plt.legend(loc='upper center', bbox_to_anchor=(0.5, 1.4),\n",
    "          ncol=3, fancybox=True, shadow=True)"
   ],
   "metadata": {
    "collapsed": false,
    "ExecuteTime": {
     "end_time": "2024-01-30T10:48:16.344684Z",
     "start_time": "2024-01-30T10:48:15.962824Z"
    }
   },
   "execution_count": 4
  },
  {
   "cell_type": "markdown",
   "source": [
    "### Fix 100x100 dimension, but c is increased"
   ],
   "metadata": {
    "collapsed": false
   }
  },
  {
   "cell_type": "code",
   "outputs": [
    {
     "name": "stdout",
     "output_type": "stream",
     "text": [
      "Calculating with options: dense, uniform\n",
      "Calculating for c = 5...\n",
      "Calculating for c = 10...\n",
      "Calculating for c = 15...\n",
      "Calculating for c = 20...\n",
      "Calculating for c = 25...\n",
      "Calculating for c = 30...\n",
      "Calculating for c = 35...\n",
      "Calculating for c = 40...\n",
      "Calculating for c = 45...\n",
      "Calculating for c = 50...\n",
      "Calculating for c = 55...\n",
      "Calculating for c = 60...\n",
      "Calculating for c = 65...\n",
      "Calculating for c = 70...\n",
      "Calculating for c = 75...\n",
      "Calculating for c = 80...\n",
      "Calculating for c = 85...\n",
      "Calculating for c = 90...\n",
      "Calculating for c = 95...\n",
      "Calculating for c = 100...\n",
      "Calculating with options: dense, opt\n",
      "Calculating for c = 5...\n",
      "Calculating for c = 10...\n",
      "Calculating for c = 15...\n",
      "Calculating for c = 20...\n",
      "Calculating for c = 25...\n",
      "Calculating for c = 30...\n",
      "Calculating for c = 35...\n",
      "Calculating for c = 40...\n",
      "Calculating for c = 45...\n",
      "Calculating for c = 50...\n",
      "Calculating for c = 55...\n",
      "Calculating for c = 60...\n",
      "Calculating for c = 65...\n",
      "Calculating for c = 70...\n",
      "Calculating for c = 75...\n",
      "Calculating for c = 80...\n",
      "Calculating for c = 85...\n",
      "Calculating for c = 90...\n",
      "Calculating for c = 95...\n",
      "Calculating for c = 100...\n",
      "Calculating with options: sparse, uniform\n",
      "Calculating for c = 5...\n",
      "Calculating for c = 10...\n",
      "Calculating for c = 15...\n",
      "Calculating for c = 20...\n",
      "Calculating for c = 25...\n",
      "Calculating for c = 30...\n",
      "Calculating for c = 35...\n",
      "Calculating for c = 40...\n",
      "Calculating for c = 45...\n",
      "Calculating for c = 50...\n",
      "Calculating for c = 55...\n",
      "Calculating for c = 60...\n",
      "Calculating for c = 65...\n",
      "Calculating for c = 70...\n",
      "Calculating for c = 75...\n",
      "Calculating for c = 80...\n",
      "Calculating for c = 85...\n",
      "Calculating for c = 90...\n",
      "Calculating for c = 95...\n",
      "Calculating for c = 100...\n",
      "Calculating with options: sparse, opt\n",
      "Calculating for c = 5...\n",
      "Calculating for c = 10...\n",
      "Calculating for c = 15...\n",
      "Calculating for c = 20...\n",
      "Calculating for c = 25...\n",
      "Calculating for c = 30...\n",
      "Calculating for c = 35...\n",
      "Calculating for c = 40...\n",
      "Calculating for c = 45...\n",
      "Calculating for c = 50...\n",
      "Calculating for c = 55...\n",
      "Calculating for c = 60...\n",
      "Calculating for c = 65...\n",
      "Calculating for c = 70...\n",
      "Calculating for c = 75...\n",
      "Calculating for c = 80...\n",
      "Calculating for c = 85...\n",
      "Calculating for c = 90...\n",
      "Calculating for c = 95...\n",
      "Calculating for c = 100...\n"
     ]
    }
   ],
   "source": [
    "# Only for BMM\n",
    "exp_controller.set_algorithm(\"bmm\")\n",
    "c_vals = np.array([] + list(range(5, 101, 5)))\n",
    "shape_a = (100, 100)\n",
    "shape_b = (100, 100)\n",
    "\n",
    "error_bound_lists = []\n",
    "\n",
    "for matrix_type in matrix_type_opts:\n",
    "    exp_controller.set_matrix_type(matrix_type)\n",
    "    for prob_dist in prob_dist_type_opts:\n",
    "        exp_controller.set_prob_dist_type(prob_dist)\n",
    "        print(f\"Calculating with options: {matrix_type}, {prob_dist}\")\n",
    "        error_bound_lists.append(exp_controller.const_dim_changing_c(\n",
    "            shape_a=shape_a, \n",
    "            shape_b=shape_b,\n",
    "            list_c=c_vals\n",
    "            )\n",
    "        )"
   ],
   "metadata": {
    "collapsed": false,
    "ExecuteTime": {
     "end_time": "2024-01-30T10:48:27.068623Z",
     "start_time": "2024-01-30T10:48:18.963300Z"
    }
   },
   "execution_count": 5
  },
  {
   "cell_type": "code",
   "outputs": [
    {
     "data": {
      "text/plain": "<matplotlib.legend.Legend at 0x12c13de50>"
     },
     "execution_count": 7,
     "metadata": {},
     "output_type": "execute_result"
    },
    {
     "data": {
      "text/plain": "<Figure size 640x480 with 1 Axes>",
      "image/png": "[encoded data removed]"
     },
     "metadata": {},
     "output_type": "display_data"
    }
   ],
   "source": [
    "# Eliminate matplotlib log output\n",
    "logger.setLevel(logging.WARN)\n",
    "\n",
    "# Plot results\n",
    "\n",
    "fig = plt.figure()\n",
    "yerr = np.linspace(1, 1, 100_000)\n",
    "ax = fig.add_subplot(2, 1, 1)\n",
    "ax.set_yscale('log')\n",
    "\n",
    "color_map = ['b', 'r', 'g', 'y']\n",
    "for index, (errors, bounds) in enumerate(error_bound_lists):\n",
    "    if index in [2,3]:\n",
    "        plt.errorbar(c_vals, errors, label=f\"error_{Utilities.map_to_type(index)}\", color=color_map[index])\n",
    "        plt.errorbar(c_vals, bounds, label=f\"bound_{Utilities.map_to_type(index)}\", uplims=True, fmt='--', color=color_map[index])\n",
    "\n",
    "plt.legend(loc='upper center', bbox_to_anchor=(0.5, 1.4),\n",
    "          ncol=3, fancybox=True, shadow=True)"
   ],
   "metadata": {
    "collapsed": false,
    "ExecuteTime": {
     "end_time": "2024-01-30T10:49:03.404181Z",
     "start_time": "2024-01-30T10:49:02.961681Z"
    }
   },
   "execution_count": 7
  },
  {
   "cell_type": "markdown",
   "source": [
    "## Trying Element-wise Matrix Multiplication\n",
    "\n",
    "Here I only tested square matrices, since only those are bounded in the paper"
   ],
   "metadata": {
    "collapsed": false
   }
  },
  {
   "cell_type": "code",
   "outputs": [],
   "source": [
    "exp_controller.set_algorithm(\"emm\")"
   ],
   "metadata": {
    "collapsed": false,
    "ExecuteTime": {
     "start_time": "2024-01-30T00:35:55.335086Z"
    }
   },
   "execution_count": null
  }
 ],
 "metadata": {
  "kernelspec": {
   "display_name": "base",
   "language": "python",
   "name": "python3"
  },
  "language_info": {
   "name": "python",
   "version": "3.11.5"
  }
 },
 "nbformat": 4,
 "nbformat_minor": 2
}
