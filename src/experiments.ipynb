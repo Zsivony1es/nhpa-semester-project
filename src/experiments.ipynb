{
 "cells": [
  {
   "cell_type": "code",
   "execution_count": 7,
   "metadata": {
    "ExecuteTime": {
     "end_time": "2024-01-26T10:06:49.051854Z",
     "start_time": "2024-01-26T10:06:49.051031Z"
    }
   },
   "outputs": [],
   "source": [
    "import numpy as np\n",
    "import matplotlib.pyplot as plt\n",
    "import logging\n",
    "\n",
    "from experiments import Experiments"
   ]
  },
  {
   "cell_type": "code",
   "outputs": [],
   "source": [
    "# Set up logging\n",
    "logger = logging.getLogger()\n",
    "logger.setLevel(logging.DEBUG)"
   ],
   "metadata": {
    "collapsed": false,
    "ExecuteTime": {
     "end_time": "2024-01-26T10:06:49.057390Z",
     "start_time": "2024-01-26T10:06:49.054342Z"
    }
   },
   "execution_count": 8
  },
  {
   "cell_type": "markdown",
   "source": [
    "# Experiments\n",
    "### Fixed $c$, increasing dimensions\n",
    "\n",
    "In the following section I will test the algorithm's accuracy on matrices where the matching dimensions are increased, and everything else stays constant.\n",
    "$$ $$\n",
    "Random matrices with entries in $\\[0,1\\]$, sparse (density = 0.01) and dense\n",
    "$ \\delta = 0.05 \\quad c = 50 \\quad$ For dimensions 50 -> 1000 with increment of 50."
   ],
   "metadata": {
    "collapsed": false
   }
  },
  {
   "cell_type": "code",
   "outputs": [
    {
     "name": "stderr",
     "output_type": "stream",
     "text": [
      "DEBUG:root:Generating optimal probability distribution for BMM A: (100, 50); B: (50, 100)...\n",
      "DEBUG:root:Optimal probability distribution for BMM (A: (100, 50); B: (50, 100)) generated in 73.06289672851562ms!\n",
      "DEBUG:root:Generating optimal probability distribution for BMM A: (100, 100); B: (100, 100)...\n"
     ]
    },
    {
     "name": "stdout",
     "output_type": "stream",
     "text": [
      "Calculating with options: dense, opt\n",
      "Calculating for A: (100 x 50)   B: (50 x 100)\n",
      "Calculating for A: (100 x 100)   B: (100 x 100)\n"
     ]
    },
    {
     "name": "stderr",
     "output_type": "stream",
     "text": [
      "DEBUG:root:Optimal probability distribution for BMM (A: (100, 100); B: (100, 100)) generated in 278.9878845214844ms!\n",
      "DEBUG:root:Generating optimal probability distribution for BMM A: (100, 150); B: (150, 100)...\n"
     ]
    },
    {
     "name": "stdout",
     "output_type": "stream",
     "text": [
      "Calculating for A: (100 x 150)   B: (150 x 100)\n"
     ]
    },
    {
     "name": "stderr",
     "output_type": "stream",
     "text": [
      "DEBUG:root:Optimal probability distribution for BMM (A: (100, 150); B: (150, 100)) generated in 329.6370506286621ms!\n",
      "DEBUG:root:Generating optimal probability distribution for BMM A: (100, 200); B: (200, 100)...\n"
     ]
    },
    {
     "name": "stdout",
     "output_type": "stream",
     "text": [
      "Calculating for A: (100 x 200)   B: (200 x 100)\n"
     ]
    },
    {
     "name": "stderr",
     "output_type": "stream",
     "text": [
      "DEBUG:root:Optimal probability distribution for BMM (A: (100, 200); B: (200, 100)) generated in 427.8068542480469ms!\n",
      "DEBUG:root:Generating optimal probability distribution for BMM A: (100, 250); B: (250, 100)...\n"
     ]
    },
    {
     "name": "stdout",
     "output_type": "stream",
     "text": [
      "Calculating for A: (100 x 250)   B: (250 x 100)\n"
     ]
    },
    {
     "name": "stderr",
     "output_type": "stream",
     "text": [
      "DEBUG:root:Optimal probability distribution for BMM (A: (100, 250); B: (250, 100)) generated in 496.6757297515869ms!\n",
      "DEBUG:root:Generating optimal probability distribution for BMM A: (100, 300); B: (300, 100)...\n"
     ]
    },
    {
     "name": "stdout",
     "output_type": "stream",
     "text": [
      "Calculating for A: (100 x 300)   B: (300 x 100)\n"
     ]
    },
    {
     "name": "stderr",
     "output_type": "stream",
     "text": [
      "DEBUG:root:Optimal probability distribution for BMM (A: (100, 300); B: (300, 100)) generated in 500.52690505981445ms!\n",
      "DEBUG:root:Generating optimal probability distribution for BMM A: (100, 350); B: (350, 100)...\n"
     ]
    },
    {
     "name": "stdout",
     "output_type": "stream",
     "text": [
      "Calculating for A: (100 x 350)   B: (350 x 100)\n"
     ]
    },
    {
     "name": "stderr",
     "output_type": "stream",
     "text": [
      "DEBUG:root:Optimal probability distribution for BMM (A: (100, 350); B: (350, 100)) generated in 598.9859104156494ms!\n",
      "DEBUG:root:Generating optimal probability distribution for BMM A: (100, 400); B: (400, 100)...\n"
     ]
    },
    {
     "name": "stdout",
     "output_type": "stream",
     "text": [
      "Calculating for A: (100 x 400)   B: (400 x 100)\n"
     ]
    },
    {
     "name": "stderr",
     "output_type": "stream",
     "text": [
      "DEBUG:root:Optimal probability distribution for BMM (A: (100, 400); B: (400, 100)) generated in 675.9028434753418ms!\n",
      "DEBUG:root:Generating optimal probability distribution for BMM A: (100, 450); B: (450, 100)...\n"
     ]
    },
    {
     "name": "stdout",
     "output_type": "stream",
     "text": [
      "Calculating for A: (100 x 450)   B: (450 x 100)\n"
     ]
    },
    {
     "name": "stderr",
     "output_type": "stream",
     "text": [
      "DEBUG:root:Optimal probability distribution for BMM (A: (100, 450); B: (450, 100)) generated in 707.8709602355957ms!\n",
      "DEBUG:root:Generating optimal probability distribution for BMM A: (100, 500); B: (500, 100)...\n"
     ]
    },
    {
     "name": "stdout",
     "output_type": "stream",
     "text": [
      "Calculating for A: (100 x 500)   B: (500 x 100)\n"
     ]
    },
    {
     "name": "stderr",
     "output_type": "stream",
     "text": [
      "DEBUG:root:Optimal probability distribution for BMM (A: (100, 500); B: (500, 100)) generated in 769.7291374206543ms!\n",
      "DEBUG:root:Generating optimal probability distribution for BMM A: (100, 550); B: (550, 100)...\n"
     ]
    },
    {
     "name": "stdout",
     "output_type": "stream",
     "text": [
      "Calculating for A: (100 x 550)   B: (550 x 100)\n"
     ]
    },
    {
     "name": "stderr",
     "output_type": "stream",
     "text": [
      "DEBUG:root:Optimal probability distribution for BMM (A: (100, 550); B: (550, 100)) generated in 833.6880207061768ms!\n",
      "DEBUG:root:Generating optimal probability distribution for BMM A: (100, 600); B: (600, 100)...\n"
     ]
    },
    {
     "name": "stdout",
     "output_type": "stream",
     "text": [
      "Calculating for A: (100 x 600)   B: (600 x 100)\n"
     ]
    },
    {
     "name": "stderr",
     "output_type": "stream",
     "text": [
      "DEBUG:root:Optimal probability distribution for BMM (A: (100, 600); B: (600, 100)) generated in 874.8841285705566ms!\n",
      "DEBUG:root:Generating optimal probability distribution for BMM A: (100, 650); B: (650, 100)...\n"
     ]
    },
    {
     "name": "stdout",
     "output_type": "stream",
     "text": [
      "Calculating for A: (100 x 650)   B: (650 x 100)\n"
     ]
    },
    {
     "name": "stderr",
     "output_type": "stream",
     "text": [
      "DEBUG:root:Optimal probability distribution for BMM (A: (100, 650); B: (650, 100)) generated in 946.2919235229492ms!\n",
      "DEBUG:root:Generating optimal probability distribution for BMM A: (100, 700); B: (700, 100)...\n"
     ]
    },
    {
     "name": "stdout",
     "output_type": "stream",
     "text": [
      "Calculating for A: (100 x 700)   B: (700 x 100)\n"
     ]
    },
    {
     "name": "stderr",
     "output_type": "stream",
     "text": [
      "DEBUG:root:Optimal probability distribution for BMM (A: (100, 700); B: (700, 100)) generated in 947.3919868469238ms!\n",
      "DEBUG:root:Generating optimal probability distribution for BMM A: (100, 750); B: (750, 100)...\n"
     ]
    },
    {
     "name": "stdout",
     "output_type": "stream",
     "text": [
      "Calculating for A: (100 x 750)   B: (750 x 100)\n"
     ]
    },
    {
     "name": "stderr",
     "output_type": "stream",
     "text": [
      "DEBUG:root:Optimal probability distribution for BMM (A: (100, 750); B: (750, 100)) generated in 1058.9141845703125ms!\n",
      "DEBUG:root:Generating optimal probability distribution for BMM A: (100, 800); B: (800, 100)...\n"
     ]
    },
    {
     "name": "stdout",
     "output_type": "stream",
     "text": [
      "Calculating for A: (100 x 800)   B: (800 x 100)\n"
     ]
    },
    {
     "name": "stderr",
     "output_type": "stream",
     "text": [
      "DEBUG:root:Optimal probability distribution for BMM (A: (100, 800); B: (800, 100)) generated in 1148.3640670776367ms!\n",
      "DEBUG:root:Generating optimal probability distribution for BMM A: (100, 850); B: (850, 100)...\n"
     ]
    },
    {
     "name": "stdout",
     "output_type": "stream",
     "text": [
      "Calculating for A: (100 x 850)   B: (850 x 100)\n"
     ]
    },
    {
     "name": "stderr",
     "output_type": "stream",
     "text": [
      "DEBUG:root:Optimal probability distribution for BMM (A: (100, 850); B: (850, 100)) generated in 1177.4709224700928ms!\n",
      "DEBUG:root:Generating optimal probability distribution for BMM A: (100, 900); B: (900, 100)...\n"
     ]
    },
    {
     "name": "stdout",
     "output_type": "stream",
     "text": [
      "Calculating for A: (100 x 900)   B: (900 x 100)\n"
     ]
    },
    {
     "name": "stderr",
     "output_type": "stream",
     "text": [
      "DEBUG:root:Optimal probability distribution for BMM (A: (100, 900); B: (900, 100)) generated in 1257.8539848327637ms!\n",
      "DEBUG:root:Generating optimal probability distribution for BMM A: (100, 950); B: (950, 100)...\n"
     ]
    },
    {
     "name": "stdout",
     "output_type": "stream",
     "text": [
      "Calculating for A: (100 x 950)   B: (950 x 100)\n"
     ]
    },
    {
     "name": "stderr",
     "output_type": "stream",
     "text": [
      "DEBUG:root:Optimal probability distribution for BMM (A: (100, 950); B: (950, 100)) generated in 1328.8929462432861ms!\n",
      "DEBUG:root:Generating optimal probability distribution for BMM A: (100, 1000); B: (1000, 100)...\n"
     ]
    },
    {
     "name": "stdout",
     "output_type": "stream",
     "text": [
      "Calculating for A: (100 x 1000)   B: (1000 x 100)\n"
     ]
    },
    {
     "name": "stderr",
     "output_type": "stream",
     "text": [
      "DEBUG:root:Optimal probability distribution for BMM (A: (100, 1000); B: (1000, 100)) generated in 1368.3581352233887ms!\n",
      "DEBUG:root:Generating optimal probability distribution for BMM A: (100, 50); B: (50, 100)...\n",
      "DEBUG:root:Optimal probability distribution for BMM (A: (100, 50); B: (50, 100)) generated in 61.5231990814209ms!\n",
      "DEBUG:root:Generating optimal probability distribution for BMM A: (100, 100); B: (100, 100)...\n"
     ]
    },
    {
     "name": "stdout",
     "output_type": "stream",
     "text": [
      "Calculating with options: sparse, opt\n",
      "Calculating for A: (100 x 50)   B: (50 x 100)\n",
      "Calculating for A: (100 x 100)   B: (100 x 100)\n"
     ]
    },
    {
     "name": "stderr",
     "output_type": "stream",
     "text": [
      "DEBUG:root:Optimal probability distribution for BMM (A: (100, 100); B: (100, 100)) generated in 127.03585624694824ms!\n",
      "DEBUG:root:Generating optimal probability distribution for BMM A: (100, 150); B: (150, 100)...\n",
      "DEBUG:root:Optimal probability distribution for BMM (A: (100, 150); B: (150, 100)) generated in 128.49688529968262ms!\n",
      "DEBUG:root:Generating optimal probability distribution for BMM A: (100, 200); B: (200, 100)...\n"
     ]
    },
    {
     "name": "stdout",
     "output_type": "stream",
     "text": [
      "Calculating for A: (100 x 150)   B: (150 x 100)\n",
      "Calculating for A: (100 x 200)   B: (200 x 100)\n"
     ]
    },
    {
     "name": "stderr",
     "output_type": "stream",
     "text": [
      "DEBUG:root:Optimal probability distribution for BMM (A: (100, 200); B: (200, 100)) generated in 217.19717979431152ms!\n",
      "DEBUG:root:Generating optimal probability distribution for BMM A: (100, 250); B: (250, 100)...\n"
     ]
    },
    {
     "name": "stdout",
     "output_type": "stream",
     "text": [
      "Calculating for A: (100 x 250)   B: (250 x 100)\n"
     ]
    },
    {
     "name": "stderr",
     "output_type": "stream",
     "text": [
      "DEBUG:root:Optimal probability distribution for BMM (A: (100, 250); B: (250, 100)) generated in 271.8470096588135ms!\n",
      "DEBUG:root:Generating optimal probability distribution for BMM A: (100, 300); B: (300, 100)...\n"
     ]
    },
    {
     "name": "stdout",
     "output_type": "stream",
     "text": [
      "Calculating for A: (100 x 300)   B: (300 x 100)\n"
     ]
    },
    {
     "name": "stderr",
     "output_type": "stream",
     "text": [
      "DEBUG:root:Optimal probability distribution for BMM (A: (100, 300); B: (300, 100)) generated in 261.16204261779785ms!\n",
      "DEBUG:root:Generating optimal probability distribution for BMM A: (100, 350); B: (350, 100)...\n"
     ]
    },
    {
     "name": "stdout",
     "output_type": "stream",
     "text": [
      "Calculating for A: (100 x 350)   B: (350 x 100)\n"
     ]
    },
    {
     "name": "stderr",
     "output_type": "stream",
     "text": [
      "DEBUG:root:Optimal probability distribution for BMM (A: (100, 350); B: (350, 100)) generated in 330.13415336608887ms!\n",
      "DEBUG:root:Generating optimal probability distribution for BMM A: (100, 400); B: (400, 100)...\n"
     ]
    },
    {
     "name": "stdout",
     "output_type": "stream",
     "text": [
      "Calculating for A: (100 x 400)   B: (400 x 100)\n"
     ]
    },
    {
     "name": "stderr",
     "output_type": "stream",
     "text": [
      "DEBUG:root:Optimal probability distribution for BMM (A: (100, 400); B: (400, 100)) generated in 336.56883239746094ms!\n",
      "DEBUG:root:Generating optimal probability distribution for BMM A: (100, 450); B: (450, 100)...\n"
     ]
    },
    {
     "name": "stdout",
     "output_type": "stream",
     "text": [
      "Calculating for A: (100 x 450)   B: (450 x 100)\n"
     ]
    },
    {
     "name": "stderr",
     "output_type": "stream",
     "text": [
      "DEBUG:root:Optimal probability distribution for BMM (A: (100, 450); B: (450, 100)) generated in 386.8730068206787ms!\n",
      "DEBUG:root:Generating optimal probability distribution for BMM A: (100, 500); B: (500, 100)...\n"
     ]
    },
    {
     "name": "stdout",
     "output_type": "stream",
     "text": [
      "Calculating for A: (100 x 500)   B: (500 x 100)\n"
     ]
    },
    {
     "name": "stderr",
     "output_type": "stream",
     "text": [
      "DEBUG:root:Optimal probability distribution for BMM (A: (100, 500); B: (500, 100)) generated in 406.77618980407715ms!\n",
      "DEBUG:root:Generating optimal probability distribution for BMM A: (100, 550); B: (550, 100)...\n"
     ]
    },
    {
     "name": "stdout",
     "output_type": "stream",
     "text": [
      "Calculating for A: (100 x 550)   B: (550 x 100)\n"
     ]
    },
    {
     "name": "stderr",
     "output_type": "stream",
     "text": [
      "DEBUG:root:Optimal probability distribution for BMM (A: (100, 550); B: (550, 100)) generated in 451.1377811431885ms!\n",
      "DEBUG:root:Generating optimal probability distribution for BMM A: (100, 600); B: (600, 100)...\n"
     ]
    },
    {
     "name": "stdout",
     "output_type": "stream",
     "text": [
      "Calculating for A: (100 x 600)   B: (600 x 100)\n"
     ]
    },
    {
     "name": "stderr",
     "output_type": "stream",
     "text": [
      "DEBUG:root:Optimal probability distribution for BMM (A: (100, 600); B: (600, 100)) generated in 496.248722076416ms!\n",
      "DEBUG:root:Generating optimal probability distribution for BMM A: (100, 650); B: (650, 100)...\n"
     ]
    },
    {
     "name": "stdout",
     "output_type": "stream",
     "text": [
      "Calculating for A: (100 x 650)   B: (650 x 100)\n"
     ]
    },
    {
     "name": "stderr",
     "output_type": "stream",
     "text": [
      "DEBUG:root:Optimal probability distribution for BMM (A: (100, 650); B: (650, 100)) generated in 466.86840057373047ms!\n",
      "DEBUG:root:Generating optimal probability distribution for BMM A: (100, 700); B: (700, 100)...\n"
     ]
    },
    {
     "name": "stdout",
     "output_type": "stream",
     "text": [
      "Calculating for A: (100 x 700)   B: (700 x 100)\n"
     ]
    },
    {
     "name": "stderr",
     "output_type": "stream",
     "text": [
      "DEBUG:root:Optimal probability distribution for BMM (A: (100, 700); B: (700, 100)) generated in 503.41200828552246ms!\n",
      "DEBUG:root:Generating optimal probability distribution for BMM A: (100, 750); B: (750, 100)...\n"
     ]
    },
    {
     "name": "stdout",
     "output_type": "stream",
     "text": [
      "Calculating for A: (100 x 750)   B: (750 x 100)\n"
     ]
    },
    {
     "name": "stderr",
     "output_type": "stream",
     "text": [
      "DEBUG:root:Optimal probability distribution for BMM (A: (100, 750); B: (750, 100)) generated in 528.0768871307373ms!\n",
      "DEBUG:root:Generating optimal probability distribution for BMM A: (100, 800); B: (800, 100)...\n"
     ]
    },
    {
     "name": "stdout",
     "output_type": "stream",
     "text": [
      "Calculating for A: (100 x 800)   B: (800 x 100)\n"
     ]
    },
    {
     "name": "stderr",
     "output_type": "stream",
     "text": [
      "DEBUG:root:Optimal probability distribution for BMM (A: (100, 800); B: (800, 100)) generated in 564.2681121826172ms!\n",
      "DEBUG:root:Generating optimal probability distribution for BMM A: (100, 850); B: (850, 100)...\n"
     ]
    },
    {
     "name": "stdout",
     "output_type": "stream",
     "text": [
      "Calculating for A: (100 x 850)   B: (850 x 100)\n"
     ]
    },
    {
     "name": "stderr",
     "output_type": "stream",
     "text": [
      "DEBUG:root:Optimal probability distribution for BMM (A: (100, 850); B: (850, 100)) generated in 566.2698745727539ms!\n",
      "DEBUG:root:Generating optimal probability distribution for BMM A: (100, 900); B: (900, 100)...\n"
     ]
    },
    {
     "name": "stdout",
     "output_type": "stream",
     "text": [
      "Calculating for A: (100 x 900)   B: (900 x 100)\n"
     ]
    },
    {
     "name": "stderr",
     "output_type": "stream",
     "text": [
      "DEBUG:root:Optimal probability distribution for BMM (A: (100, 900); B: (900, 100)) generated in 601.2759208679199ms!\n",
      "DEBUG:root:Generating optimal probability distribution for BMM A: (100, 950); B: (950, 100)...\n"
     ]
    },
    {
     "name": "stdout",
     "output_type": "stream",
     "text": [
      "Calculating for A: (100 x 950)   B: (950 x 100)\n"
     ]
    },
    {
     "name": "stderr",
     "output_type": "stream",
     "text": [
      "DEBUG:root:Optimal probability distribution for BMM (A: (100, 950); B: (950, 100)) generated in 627.5219917297363ms!\n",
      "DEBUG:root:Generating optimal probability distribution for BMM A: (100, 1000); B: (1000, 100)...\n"
     ]
    },
    {
     "name": "stdout",
     "output_type": "stream",
     "text": [
      "Calculating for A: (100 x 1000)   B: (1000 x 100)\n"
     ]
    },
    {
     "name": "stderr",
     "output_type": "stream",
     "text": [
      "DEBUG:root:Optimal probability distribution for BMM (A: (100, 1000); B: (1000, 100)) generated in 619.4219589233398ms!\n",
      "DEBUG:root:Getting uniform probability distribution for n=50...\n",
      "DEBUG:root:Uniform probability distribution for n=50 generated in 0.04601478576660156ms!\n",
      "DEBUG:root:Getting uniform probability distribution for n=100...\n",
      "DEBUG:root:Uniform probability distribution for n=100 generated in 3.911733627319336ms!\n",
      "DEBUG:root:Getting uniform probability distribution for n=150...\n",
      "DEBUG:root:Uniform probability distribution for n=150 generated in 0.025272369384765625ms!\n",
      "DEBUG:root:Getting uniform probability distribution for n=200...\n",
      "DEBUG:root:Uniform probability distribution for n=200 generated in 0.033855438232421875ms!\n",
      "DEBUG:root:Getting uniform probability distribution for n=250...\n",
      "DEBUG:root:Uniform probability distribution for n=250 generated in 0.0171661376953125ms!\n",
      "DEBUG:root:Getting uniform probability distribution for n=300...\n",
      "DEBUG:root:Uniform probability distribution for n=300 generated in 0.01811981201171875ms!\n",
      "DEBUG:root:Getting uniform probability distribution for n=350...\n",
      "DEBUG:root:Uniform probability distribution for n=350 generated in 0.026941299438476562ms!\n",
      "DEBUG:root:Getting uniform probability distribution for n=400...\n",
      "DEBUG:root:Uniform probability distribution for n=400 generated in 0.026941299438476562ms!\n",
      "DEBUG:root:Getting uniform probability distribution for n=450...\n",
      "DEBUG:root:Uniform probability distribution for n=450 generated in 0.0209808349609375ms!\n",
      "DEBUG:root:Getting uniform probability distribution for n=500...\n",
      "DEBUG:root:Uniform probability distribution for n=500 generated in 0.02002716064453125ms!\n",
      "DEBUG:root:Getting uniform probability distribution for n=550...\n",
      "DEBUG:root:Uniform probability distribution for n=550 generated in 0.0247955322265625ms!\n",
      "DEBUG:root:Getting uniform probability distribution for n=600...\n",
      "DEBUG:root:Uniform probability distribution for n=600 generated in 0.04100799560546875ms!\n",
      "DEBUG:root:Getting uniform probability distribution for n=650...\n",
      "DEBUG:root:Uniform probability distribution for n=650 generated in 0.12803077697753906ms!\n"
     ]
    },
    {
     "name": "stdout",
     "output_type": "stream",
     "text": [
      "Calculating with options: dense, uniform\n",
      "Calculating for A: (100 x 50)   B: (50 x 100)\n",
      "Calculating for A: (100 x 100)   B: (100 x 100)\n",
      "Calculating for A: (100 x 150)   B: (150 x 100)\n",
      "Calculating for A: (100 x 200)   B: (200 x 100)\n",
      "Calculating for A: (100 x 250)   B: (250 x 100)\n",
      "Calculating for A: (100 x 300)   B: (300 x 100)\n",
      "Calculating for A: (100 x 350)   B: (350 x 100)\n",
      "Calculating for A: (100 x 400)   B: (400 x 100)\n",
      "Calculating for A: (100 x 450)   B: (450 x 100)\n",
      "Calculating for A: (100 x 500)   B: (500 x 100)\n",
      "Calculating for A: (100 x 550)   B: (550 x 100)\n",
      "Calculating for A: (100 x 600)   B: (600 x 100)\n",
      "Calculating for A: (100 x 650)   B: (650 x 100)\n"
     ]
    },
    {
     "name": "stderr",
     "output_type": "stream",
     "text": [
      "DEBUG:root:Getting uniform probability distribution for n=700...\n",
      "DEBUG:root:Uniform probability distribution for n=700 generated in 0.026226043701171875ms!\n",
      "DEBUG:root:Getting uniform probability distribution for n=750...\n",
      "DEBUG:root:Uniform probability distribution for n=750 generated in 0.1518726348876953ms!\n",
      "DEBUG:root:Getting uniform probability distribution for n=800...\n",
      "DEBUG:root:Uniform probability distribution for n=800 generated in 0.02002716064453125ms!\n",
      "DEBUG:root:Getting uniform probability distribution for n=850...\n",
      "DEBUG:root:Uniform probability distribution for n=850 generated in 0.023126602172851562ms!\n",
      "DEBUG:root:Getting uniform probability distribution for n=900...\n",
      "DEBUG:root:Uniform probability distribution for n=900 generated in 0.022172927856445312ms!\n",
      "DEBUG:root:Getting uniform probability distribution for n=950...\n",
      "DEBUG:root:Uniform probability distribution for n=950 generated in 0.026702880859375ms!\n",
      "DEBUG:root:Getting uniform probability distribution for n=1000...\n",
      "DEBUG:root:Uniform probability distribution for n=1000 generated in 0.0209808349609375ms!\n",
      "DEBUG:root:Getting uniform probability distribution for n=50...\n",
      "DEBUG:root:Uniform probability distribution for n=50 generated in 0.02193450927734375ms!\n",
      "DEBUG:root:Getting uniform probability distribution for n=100...\n",
      "DEBUG:root:Uniform probability distribution for n=100 generated in 0.0247955322265625ms!\n",
      "DEBUG:root:Getting uniform probability distribution for n=150...\n",
      "DEBUG:root:Uniform probability distribution for n=150 generated in 0.008821487426757812ms!\n"
     ]
    },
    {
     "name": "stdout",
     "output_type": "stream",
     "text": [
      "Calculating for A: (100 x 700)   B: (700 x 100)\n",
      "Calculating for A: (100 x 750)   B: (750 x 100)\n",
      "Calculating for A: (100 x 800)   B: (800 x 100)\n",
      "Calculating for A: (100 x 850)   B: (850 x 100)\n",
      "Calculating for A: (100 x 900)   B: (900 x 100)\n",
      "Calculating for A: (100 x 950)   B: (950 x 100)\n",
      "Calculating for A: (100 x 1000)   B: (1000 x 100)\n",
      "Calculating with options: sparse, uniform\n",
      "Calculating for A: (100 x 50)   B: (50 x 100)\n",
      "Calculating for A: (100 x 100)   B: (100 x 100)\n",
      "Calculating for A: (100 x 150)   B: (150 x 100)\n"
     ]
    },
    {
     "name": "stderr",
     "output_type": "stream",
     "text": [
      "DEBUG:root:Getting uniform probability distribution for n=200...\n",
      "DEBUG:root:Uniform probability distribution for n=200 generated in 0.009059906005859375ms!\n",
      "DEBUG:root:Getting uniform probability distribution for n=250...\n",
      "DEBUG:root:Uniform probability distribution for n=250 generated in 0.02002716064453125ms!\n",
      "DEBUG:root:Getting uniform probability distribution for n=300...\n",
      "DEBUG:root:Uniform probability distribution for n=300 generated in 0.014066696166992188ms!\n",
      "DEBUG:root:Getting uniform probability distribution for n=350...\n",
      "DEBUG:root:Uniform probability distribution for n=350 generated in 0.017881393432617188ms!\n",
      "DEBUG:root:Getting uniform probability distribution for n=400...\n",
      "DEBUG:root:Uniform probability distribution for n=400 generated in 0.01811981201171875ms!\n",
      "DEBUG:root:Getting uniform probability distribution for n=450...\n",
      "DEBUG:root:Uniform probability distribution for n=450 generated in 0.02193450927734375ms!\n",
      "DEBUG:root:Getting uniform probability distribution for n=500...\n",
      "DEBUG:root:Uniform probability distribution for n=500 generated in 0.052928924560546875ms!\n",
      "DEBUG:root:Getting uniform probability distribution for n=550...\n",
      "DEBUG:root:Uniform probability distribution for n=550 generated in 0.02384185791015625ms!\n",
      "DEBUG:root:Getting uniform probability distribution for n=600...\n",
      "DEBUG:root:Uniform probability distribution for n=600 generated in 0.026941299438476562ms!\n",
      "DEBUG:root:Getting uniform probability distribution for n=650...\n",
      "DEBUG:root:Uniform probability distribution for n=650 generated in 0.023126602172851562ms!\n",
      "DEBUG:root:Getting uniform probability distribution for n=700...\n",
      "DEBUG:root:Uniform probability distribution for n=700 generated in 0.026702880859375ms!\n"
     ]
    },
    {
     "name": "stdout",
     "output_type": "stream",
     "text": [
      "Calculating for A: (100 x 200)   B: (200 x 100)\n",
      "Calculating for A: (100 x 250)   B: (250 x 100)\n",
      "Calculating for A: (100 x 300)   B: (300 x 100)\n",
      "Calculating for A: (100 x 350)   B: (350 x 100)\n",
      "Calculating for A: (100 x 400)   B: (400 x 100)\n",
      "Calculating for A: (100 x 450)   B: (450 x 100)\n",
      "Calculating for A: (100 x 500)   B: (500 x 100)\n",
      "Calculating for A: (100 x 550)   B: (550 x 100)\n",
      "Calculating for A: (100 x 600)   B: (600 x 100)\n",
      "Calculating for A: (100 x 650)   B: (650 x 100)\n",
      "Calculating for A: (100 x 700)   B: (700 x 100)\n"
     ]
    },
    {
     "name": "stderr",
     "output_type": "stream",
     "text": [
      "DEBUG:root:Getting uniform probability distribution for n=750...\n",
      "DEBUG:root:Uniform probability distribution for n=750 generated in 0.029802322387695312ms!\n",
      "DEBUG:root:Getting uniform probability distribution for n=800...\n",
      "DEBUG:root:Uniform probability distribution for n=800 generated in 0.02384185791015625ms!\n",
      "DEBUG:root:Getting uniform probability distribution for n=850...\n",
      "DEBUG:root:Uniform probability distribution for n=850 generated in 0.02288818359375ms!\n",
      "DEBUG:root:Getting uniform probability distribution for n=900...\n",
      "DEBUG:root:Uniform probability distribution for n=900 generated in 0.02002716064453125ms!\n",
      "DEBUG:root:Getting uniform probability distribution for n=950...\n",
      "DEBUG:root:Uniform probability distribution for n=950 generated in 0.024080276489257812ms!\n",
      "DEBUG:root:Getting uniform probability distribution for n=1000...\n",
      "DEBUG:root:Uniform probability distribution for n=1000 generated in 0.024080276489257812ms!\n"
     ]
    },
    {
     "name": "stdout",
     "output_type": "stream",
     "text": [
      "Calculating for A: (100 x 750)   B: (750 x 100)\n",
      "Calculating for A: (100 x 800)   B: (800 x 100)\n",
      "Calculating for A: (100 x 850)   B: (850 x 100)\n",
      "Calculating for A: (100 x 900)   B: (900 x 100)\n",
      "Calculating for A: (100 x 950)   B: (950 x 100)\n",
      "Calculating for A: (100 x 1000)   B: (1000 x 100)\n"
     ]
    }
   ],
   "source": [
    "# Gather results\n",
    "dimensions = [] + list(range(50, 1001, 50))\n",
    "fix_dim = 100\n",
    "\n",
    "a_dims = np.column_stack((np.full(len(dimensions), fill_value=fix_dim), dimensions))\n",
    "b_dims = np.column_stack((dimensions, np.full(len(dimensions), fill_value=fix_dim)))\n",
    "\n",
    "print(\"Calculating with options: dense, opt\")\n",
    "errors1, bounds1 = Experiments.changing_dim_const_c(a_dims=a_dims,\n",
    "                                                  b_dims=b_dims,\n",
    "                                                  c = 50,\n",
    "                                                  matrix_type = \"dense\",\n",
    "                                                  prob_dist_type = \"opt\",\n",
    "                                                  delta = 0.05)\n",
    "\n",
    "print(\"Calculating with options: sparse, opt\")\n",
    "errors2, bounds2 = Experiments.changing_dim_const_c(a_dims=a_dims,\n",
    "                                                  b_dims=b_dims,\n",
    "                                                  c = 50,\n",
    "                                                  matrix_type = \"sparse\",\n",
    "                                                  prob_dist_type = \"opt\",\n",
    "                                                  delta = 0.05)\n",
    "\n",
    "print(\"Calculating with options: dense, uniform\")\n",
    "errors3, bounds3 = Experiments.changing_dim_const_c(a_dims=a_dims,\n",
    "                                                  b_dims=b_dims,\n",
    "                                                  c = 50,\n",
    "                                                  matrix_type = \"dense\",\n",
    "                                                  prob_dist_type = \"uniform\",\n",
    "                                                  delta = 0.05)\n",
    "\n",
    "print(\"Calculating with options: sparse, uniform\")\n",
    "errors4, bounds4 = Experiments.changing_dim_const_c(a_dims=a_dims,\n",
    "                                                  b_dims=b_dims,\n",
    "                                                  c = 50,\n",
    "                                                  matrix_type = \"sparse\",\n",
    "                                                  prob_dist_type = \"uniform\",\n",
    "                                                  delta = 0.05)"
   ],
   "metadata": {
    "collapsed": false,
    "ExecuteTime": {
     "end_time": "2024-01-26T10:07:14.198540Z",
     "start_time": "2024-01-26T10:06:49.068967Z"
    }
   },
   "execution_count": 9
  },
  {
   "cell_type": "markdown",
   "source": [
    "### Fix 100x100 dimension, but c is increased"
   ],
   "metadata": {
    "collapsed": false
   }
  },
  {
   "cell_type": "code",
   "outputs": [
    {
     "name": "stderr",
     "output_type": "stream",
     "text": [
      "DEBUG:root:Generating optimal probability distribution for BMM A: (100, 100); B: (100, 100)...\n"
     ]
    },
    {
     "name": "stdout",
     "output_type": "stream",
     "text": [
      "Calculating with options: dense, opt\n",
      "Calculating for c = 5...\n"
     ]
    },
    {
     "name": "stderr",
     "output_type": "stream",
     "text": [
      "DEBUG:root:Optimal probability distribution for BMM (A: (100, 100); B: (100, 100)) generated in 344.573974609375ms!\n",
      "DEBUG:root:Generating optimal probability distribution for BMM A: (100, 100); B: (100, 100)...\n"
     ]
    },
    {
     "name": "stdout",
     "output_type": "stream",
     "text": [
      "Calculating for c = 10...\n"
     ]
    },
    {
     "name": "stderr",
     "output_type": "stream",
     "text": [
      "DEBUG:root:Optimal probability distribution for BMM (A: (100, 100); B: (100, 100)) generated in 298.7861633300781ms!\n",
      "DEBUG:root:Generating optimal probability distribution for BMM A: (100, 100); B: (100, 100)...\n"
     ]
    },
    {
     "name": "stdout",
     "output_type": "stream",
     "text": [
      "Calculating for c = 15...\n"
     ]
    },
    {
     "name": "stderr",
     "output_type": "stream",
     "text": [
      "DEBUG:root:Optimal probability distribution for BMM (A: (100, 100); B: (100, 100)) generated in 273.3461856842041ms!\n",
      "DEBUG:root:Generating optimal probability distribution for BMM A: (100, 100); B: (100, 100)...\n"
     ]
    },
    {
     "name": "stdout",
     "output_type": "stream",
     "text": [
      "Calculating for c = 20...\n"
     ]
    },
    {
     "name": "stderr",
     "output_type": "stream",
     "text": [
      "DEBUG:root:Optimal probability distribution for BMM (A: (100, 100); B: (100, 100)) generated in 292.1030521392822ms!\n",
      "DEBUG:root:Generating optimal probability distribution for BMM A: (100, 100); B: (100, 100)...\n"
     ]
    },
    {
     "name": "stdout",
     "output_type": "stream",
     "text": [
      "Calculating for c = 25...\n"
     ]
    },
    {
     "name": "stderr",
     "output_type": "stream",
     "text": [
      "DEBUG:root:Optimal probability distribution for BMM (A: (100, 100); B: (100, 100)) generated in 258.11004638671875ms!\n",
      "DEBUG:root:Generating optimal probability distribution for BMM A: (100, 100); B: (100, 100)...\n"
     ]
    },
    {
     "name": "stdout",
     "output_type": "stream",
     "text": [
      "Calculating for c = 30...\n"
     ]
    },
    {
     "name": "stderr",
     "output_type": "stream",
     "text": [
      "DEBUG:root:Optimal probability distribution for BMM (A: (100, 100); B: (100, 100)) generated in 229.50506210327148ms!\n",
      "DEBUG:root:Generating optimal probability distribution for BMM A: (100, 100); B: (100, 100)...\n",
      "DEBUG:root:Optimal probability distribution for BMM (A: (100, 100); B: (100, 100)) generated in 182.55090713500977ms!\n",
      "DEBUG:root:Generating optimal probability distribution for BMM A: (100, 100); B: (100, 100)...\n"
     ]
    },
    {
     "name": "stdout",
     "output_type": "stream",
     "text": [
      "Calculating for c = 35...\n",
      "Calculating for c = 40...\n"
     ]
    },
    {
     "name": "stderr",
     "output_type": "stream",
     "text": [
      "DEBUG:root:Optimal probability distribution for BMM (A: (100, 100); B: (100, 100)) generated in 257.75885581970215ms!\n",
      "DEBUG:root:Generating optimal probability distribution for BMM A: (100, 100); B: (100, 100)...\n"
     ]
    },
    {
     "name": "stdout",
     "output_type": "stream",
     "text": [
      "Calculating for c = 45...\n"
     ]
    },
    {
     "name": "stderr",
     "output_type": "stream",
     "text": [
      "DEBUG:root:Optimal probability distribution for BMM (A: (100, 100); B: (100, 100)) generated in 234.93003845214844ms!\n",
      "DEBUG:root:Generating optimal probability distribution for BMM A: (100, 100); B: (100, 100)...\n"
     ]
    },
    {
     "name": "stdout",
     "output_type": "stream",
     "text": [
      "Calculating for c = 50...\n"
     ]
    },
    {
     "name": "stderr",
     "output_type": "stream",
     "text": [
      "DEBUG:root:Optimal probability distribution for BMM (A: (100, 100); B: (100, 100)) generated in 209.34486389160156ms!\n",
      "DEBUG:root:Generating optimal probability distribution for BMM A: (100, 100); B: (100, 100)...\n"
     ]
    },
    {
     "name": "stdout",
     "output_type": "stream",
     "text": [
      "Calculating for c = 55...\n"
     ]
    },
    {
     "name": "stderr",
     "output_type": "stream",
     "text": [
      "DEBUG:root:Optimal probability distribution for BMM (A: (100, 100); B: (100, 100)) generated in 232.37895965576172ms!\n",
      "DEBUG:root:Generating optimal probability distribution for BMM A: (100, 100); B: (100, 100)...\n"
     ]
    },
    {
     "name": "stdout",
     "output_type": "stream",
     "text": [
      "Calculating for c = 60...\n"
     ]
    },
    {
     "name": "stderr",
     "output_type": "stream",
     "text": [
      "DEBUG:root:Optimal probability distribution for BMM (A: (100, 100); B: (100, 100)) generated in 275.6540775299072ms!\n",
      "DEBUG:root:Generating optimal probability distribution for BMM A: (100, 100); B: (100, 100)...\n",
      "DEBUG:root:Optimal probability distribution for BMM (A: (100, 100); B: (100, 100)) generated in 189.07880783081055ms!\n",
      "DEBUG:root:Generating optimal probability distribution for BMM A: (100, 100); B: (100, 100)...\n"
     ]
    },
    {
     "name": "stdout",
     "output_type": "stream",
     "text": [
      "Calculating for c = 65...\n",
      "Calculating for c = 70...\n"
     ]
    },
    {
     "name": "stderr",
     "output_type": "stream",
     "text": [
      "DEBUG:root:Optimal probability distribution for BMM (A: (100, 100); B: (100, 100)) generated in 187.89076805114746ms!\n",
      "DEBUG:root:Generating optimal probability distribution for BMM A: (100, 100); B: (100, 100)...\n"
     ]
    },
    {
     "name": "stdout",
     "output_type": "stream",
     "text": [
      "Calculating for c = 75...\n"
     ]
    },
    {
     "name": "stderr",
     "output_type": "stream",
     "text": [
      "DEBUG:root:Optimal probability distribution for BMM (A: (100, 100); B: (100, 100)) generated in 240.57817459106445ms!\n",
      "DEBUG:root:Generating optimal probability distribution for BMM A: (100, 100); B: (100, 100)...\n"
     ]
    },
    {
     "name": "stdout",
     "output_type": "stream",
     "text": [
      "Calculating for c = 80...\n"
     ]
    },
    {
     "name": "stderr",
     "output_type": "stream",
     "text": [
      "DEBUG:root:Optimal probability distribution for BMM (A: (100, 100); B: (100, 100)) generated in 267.7128314971924ms!\n",
      "DEBUG:root:Generating optimal probability distribution for BMM A: (100, 100); B: (100, 100)...\n"
     ]
    },
    {
     "name": "stdout",
     "output_type": "stream",
     "text": [
      "Calculating for c = 85...\n"
     ]
    },
    {
     "name": "stderr",
     "output_type": "stream",
     "text": [
      "DEBUG:root:Optimal probability distribution for BMM (A: (100, 100); B: (100, 100)) generated in 291.07213020324707ms!\n",
      "DEBUG:root:Generating optimal probability distribution for BMM A: (100, 100); B: (100, 100)...\n"
     ]
    },
    {
     "name": "stdout",
     "output_type": "stream",
     "text": [
      "Calculating for c = 90...\n"
     ]
    },
    {
     "name": "stderr",
     "output_type": "stream",
     "text": [
      "DEBUG:root:Optimal probability distribution for BMM (A: (100, 100); B: (100, 100)) generated in 245.73612213134766ms!\n",
      "DEBUG:root:Generating optimal probability distribution for BMM A: (100, 100); B: (100, 100)...\n"
     ]
    },
    {
     "name": "stdout",
     "output_type": "stream",
     "text": [
      "Calculating for c = 95...\n"
     ]
    },
    {
     "name": "stderr",
     "output_type": "stream",
     "text": [
      "DEBUG:root:Optimal probability distribution for BMM (A: (100, 100); B: (100, 100)) generated in 298.54607582092285ms!\n",
      "DEBUG:root:Generating optimal probability distribution for BMM A: (100, 100); B: (100, 100)...\n"
     ]
    },
    {
     "name": "stdout",
     "output_type": "stream",
     "text": [
      "Calculating for c = 100...\n"
     ]
    },
    {
     "name": "stderr",
     "output_type": "stream",
     "text": [
      "DEBUG:root:Optimal probability distribution for BMM (A: (100, 100); B: (100, 100)) generated in 272.65310287475586ms!\n",
      "DEBUG:root:Generating optimal probability distribution for BMM A: (100, 100); B: (100, 100)...\n",
      "DEBUG:root:Optimal probability distribution for BMM (A: (100, 100); B: (100, 100)) generated in 120.98169326782227ms!\n",
      "DEBUG:root:Generating optimal probability distribution for BMM A: (100, 100); B: (100, 100)...\n"
     ]
    },
    {
     "name": "stdout",
     "output_type": "stream",
     "text": [
      "Calculating with options: sparse, opt\n",
      "Calculating for c = 5...\n",
      "Calculating for c = 10...\n"
     ]
    },
    {
     "name": "stderr",
     "output_type": "stream",
     "text": [
      "DEBUG:root:Optimal probability distribution for BMM (A: (100, 100); B: (100, 100)) generated in 109.63797569274902ms!\n",
      "DEBUG:root:Generating optimal probability distribution for BMM A: (100, 100); B: (100, 100)...\n",
      "DEBUG:root:Optimal probability distribution for BMM (A: (100, 100); B: (100, 100)) generated in 95.46804428100586ms!\n",
      "DEBUG:root:Generating optimal probability distribution for BMM A: (100, 100); B: (100, 100)...\n"
     ]
    },
    {
     "name": "stdout",
     "output_type": "stream",
     "text": [
      "Calculating for c = 15...\n",
      "Calculating for c = 20...\n"
     ]
    },
    {
     "name": "stderr",
     "output_type": "stream",
     "text": [
      "DEBUG:root:Optimal probability distribution for BMM (A: (100, 100); B: (100, 100)) generated in 150.3159999847412ms!\n",
      "DEBUG:root:Generating optimal probability distribution for BMM A: (100, 100); B: (100, 100)...\n",
      "DEBUG:root:Optimal probability distribution for BMM (A: (100, 100); B: (100, 100)) generated in 88.27018737792969ms!\n",
      "DEBUG:root:Generating optimal probability distribution for BMM A: (100, 100); B: (100, 100)...\n",
      "DEBUG:root:Optimal probability distribution for BMM (A: (100, 100); B: (100, 100)) generated in 82.59105682373047ms!\n",
      "DEBUG:root:Generating optimal probability distribution for BMM A: (100, 100); B: (100, 100)...\n"
     ]
    },
    {
     "name": "stdout",
     "output_type": "stream",
     "text": [
      "Calculating for c = 25...\n",
      "Calculating for c = 30...\n",
      "Calculating for c = 35...\n"
     ]
    },
    {
     "name": "stderr",
     "output_type": "stream",
     "text": [
      "DEBUG:root:Optimal probability distribution for BMM (A: (100, 100); B: (100, 100)) generated in 81.49909973144531ms!\n",
      "DEBUG:root:Generating optimal probability distribution for BMM A: (100, 100); B: (100, 100)...\n",
      "DEBUG:root:Optimal probability distribution for BMM (A: (100, 100); B: (100, 100)) generated in 106.6732406616211ms!\n",
      "DEBUG:root:Generating optimal probability distribution for BMM A: (100, 100); B: (100, 100)...\n"
     ]
    },
    {
     "name": "stdout",
     "output_type": "stream",
     "text": [
      "Calculating for c = 40...\n",
      "Calculating for c = 45...\n"
     ]
    },
    {
     "name": "stderr",
     "output_type": "stream",
     "text": [
      "DEBUG:root:Optimal probability distribution for BMM (A: (100, 100); B: (100, 100)) generated in 118.62325668334961ms!\n",
      "DEBUG:root:Generating optimal probability distribution for BMM A: (100, 100); B: (100, 100)...\n",
      "DEBUG:root:Optimal probability distribution for BMM (A: (100, 100); B: (100, 100)) generated in 107.02276229858398ms!\n",
      "DEBUG:root:Generating optimal probability distribution for BMM A: (100, 100); B: (100, 100)...\n"
     ]
    },
    {
     "name": "stdout",
     "output_type": "stream",
     "text": [
      "Calculating for c = 50...\n",
      "Calculating for c = 55...\n"
     ]
    },
    {
     "name": "stderr",
     "output_type": "stream",
     "text": [
      "DEBUG:root:Optimal probability distribution for BMM (A: (100, 100); B: (100, 100)) generated in 121.17505073547363ms!\n",
      "DEBUG:root:Generating optimal probability distribution for BMM A: (100, 100); B: (100, 100)...\n",
      "DEBUG:root:Optimal probability distribution for BMM (A: (100, 100); B: (100, 100)) generated in 104.4459342956543ms!\n",
      "DEBUG:root:Generating optimal probability distribution for BMM A: (100, 100); B: (100, 100)...\n"
     ]
    },
    {
     "name": "stdout",
     "output_type": "stream",
     "text": [
      "Calculating for c = 60...\n",
      "Calculating for c = 65...\n"
     ]
    },
    {
     "name": "stderr",
     "output_type": "stream",
     "text": [
      "DEBUG:root:Optimal probability distribution for BMM (A: (100, 100); B: (100, 100)) generated in 100.87394714355469ms!\n",
      "DEBUG:root:Generating optimal probability distribution for BMM A: (100, 100); B: (100, 100)...\n",
      "DEBUG:root:Optimal probability distribution for BMM (A: (100, 100); B: (100, 100)) generated in 101.37510299682617ms!\n",
      "DEBUG:root:Generating optimal probability distribution for BMM A: (100, 100); B: (100, 100)...\n"
     ]
    },
    {
     "name": "stdout",
     "output_type": "stream",
     "text": [
      "Calculating for c = 70...\n",
      "Calculating for c = 75...\n"
     ]
    },
    {
     "name": "stderr",
     "output_type": "stream",
     "text": [
      "DEBUG:root:Optimal probability distribution for BMM (A: (100, 100); B: (100, 100)) generated in 123.57807159423828ms!\n",
      "DEBUG:root:Generating optimal probability distribution for BMM A: (100, 100); B: (100, 100)...\n",
      "DEBUG:root:Optimal probability distribution for BMM (A: (100, 100); B: (100, 100)) generated in 111.90605163574219ms!\n",
      "DEBUG:root:Generating optimal probability distribution for BMM A: (100, 100); B: (100, 100)...\n"
     ]
    },
    {
     "name": "stdout",
     "output_type": "stream",
     "text": [
      "Calculating for c = 80...\n",
      "Calculating for c = 85...\n"
     ]
    },
    {
     "name": "stderr",
     "output_type": "stream",
     "text": [
      "DEBUG:root:Optimal probability distribution for BMM (A: (100, 100); B: (100, 100)) generated in 123.11005592346191ms!\n",
      "DEBUG:root:Generating optimal probability distribution for BMM A: (100, 100); B: (100, 100)...\n",
      "DEBUG:root:Optimal probability distribution for BMM (A: (100, 100); B: (100, 100)) generated in 109.25507545471191ms!\n",
      "DEBUG:root:Generating optimal probability distribution for BMM A: (100, 100); B: (100, 100)...\n"
     ]
    },
    {
     "name": "stdout",
     "output_type": "stream",
     "text": [
      "Calculating for c = 90...\n",
      "Calculating for c = 95...\n"
     ]
    },
    {
     "name": "stderr",
     "output_type": "stream",
     "text": [
      "DEBUG:root:Optimal probability distribution for BMM (A: (100, 100); B: (100, 100)) generated in 121.98495864868164ms!\n",
      "DEBUG:root:Generating optimal probability distribution for BMM A: (100, 100); B: (100, 100)...\n",
      "DEBUG:root:Optimal probability distribution for BMM (A: (100, 100); B: (100, 100)) generated in 112.94293403625488ms!\n",
      "DEBUG:root:Getting uniform probability distribution for n=100...\n",
      "DEBUG:root:Uniform probability distribution for n=100 generated in 0.0247955322265625ms!\n",
      "DEBUG:root:Getting uniform probability distribution for n=100...\n",
      "DEBUG:root:Uniform probability distribution for n=100 generated in 0.027894973754882812ms!\n",
      "DEBUG:root:Getting uniform probability distribution for n=100...\n",
      "DEBUG:root:Uniform probability distribution for n=100 generated in 0.022172927856445312ms!\n",
      "DEBUG:root:Getting uniform probability distribution for n=100...\n",
      "DEBUG:root:Uniform probability distribution for n=100 generated in 0.024080276489257812ms!\n",
      "DEBUG:root:Getting uniform probability distribution for n=100...\n",
      "DEBUG:root:Uniform probability distribution for n=100 generated in 0.025987625122070312ms!\n"
     ]
    },
    {
     "name": "stdout",
     "output_type": "stream",
     "text": [
      "Calculating for c = 100...\n",
      "Calculating with options: dense, uniform\n",
      "Calculating for c = 5...\n",
      "Calculating for c = 10...\n",
      "Calculating for c = 15...\n",
      "Calculating for c = 20...\n",
      "Calculating for c = 25...\n"
     ]
    },
    {
     "name": "stderr",
     "output_type": "stream",
     "text": [
      "DEBUG:root:Getting uniform probability distribution for n=100...\n",
      "DEBUG:root:Uniform probability distribution for n=100 generated in 0.0171661376953125ms!\n",
      "DEBUG:root:Getting uniform probability distribution for n=100...\n",
      "DEBUG:root:Uniform probability distribution for n=100 generated in 0.03314018249511719ms!\n",
      "DEBUG:root:Getting uniform probability distribution for n=100...\n",
      "DEBUG:root:Uniform probability distribution for n=100 generated in 0.024080276489257812ms!\n",
      "DEBUG:root:Getting uniform probability distribution for n=100...\n",
      "DEBUG:root:Uniform probability distribution for n=100 generated in 0.024080276489257812ms!\n",
      "DEBUG:root:Getting uniform probability distribution for n=100...\n",
      "DEBUG:root:Uniform probability distribution for n=100 generated in 0.025033950805664062ms!\n",
      "DEBUG:root:Getting uniform probability distribution for n=100...\n",
      "DEBUG:root:Uniform probability distribution for n=100 generated in 0.017881393432617188ms!\n",
      "DEBUG:root:Getting uniform probability distribution for n=100...\n",
      "DEBUG:root:Uniform probability distribution for n=100 generated in 0.0209808349609375ms!\n",
      "DEBUG:root:Getting uniform probability distribution for n=100...\n",
      "DEBUG:root:Uniform probability distribution for n=100 generated in 0.025033950805664062ms!\n",
      "DEBUG:root:Getting uniform probability distribution for n=100...\n",
      "DEBUG:root:Uniform probability distribution for n=100 generated in 0.032901763916015625ms!\n",
      "DEBUG:root:Getting uniform probability distribution for n=100...\n",
      "DEBUG:root:Uniform probability distribution for n=100 generated in 0.0209808349609375ms!\n",
      "DEBUG:root:Getting uniform probability distribution for n=100...\n",
      "DEBUG:root:Uniform probability distribution for n=100 generated in 0.02193450927734375ms!\n",
      "DEBUG:root:Getting uniform probability distribution for n=100...\n",
      "DEBUG:root:Uniform probability distribution for n=100 generated in 0.031948089599609375ms!\n",
      "DEBUG:root:Getting uniform probability distribution for n=100...\n",
      "DEBUG:root:Uniform probability distribution for n=100 generated in 0.010013580322265625ms!\n",
      "DEBUG:root:Getting uniform probability distribution for n=100...\n",
      "DEBUG:root:Uniform probability distribution for n=100 generated in 0.023126602172851562ms!\n"
     ]
    },
    {
     "name": "stdout",
     "output_type": "stream",
     "text": [
      "Calculating for c = 30...\n",
      "Calculating for c = 35...\n",
      "Calculating for c = 40...\n",
      "Calculating for c = 45...\n",
      "Calculating for c = 50...\n",
      "Calculating for c = 55...\n",
      "Calculating for c = 60...\n",
      "Calculating for c = 65...\n",
      "Calculating for c = 70...\n",
      "Calculating for c = 75...\n",
      "Calculating for c = 80...\n",
      "Calculating for c = 85...\n",
      "Calculating for c = 90...\n",
      "Calculating for c = 95...\n"
     ]
    },
    {
     "name": "stderr",
     "output_type": "stream",
     "text": [
      "DEBUG:root:Getting uniform probability distribution for n=100...\n",
      "DEBUG:root:Uniform probability distribution for n=100 generated in 0.019073486328125ms!\n",
      "DEBUG:root:Getting uniform probability distribution for n=100...\n",
      "DEBUG:root:Uniform probability distribution for n=100 generated in 0.017881393432617188ms!\n",
      "DEBUG:root:Getting uniform probability distribution for n=100...\n",
      "DEBUG:root:Uniform probability distribution for n=100 generated in 0.016689300537109375ms!\n",
      "DEBUG:root:Getting uniform probability distribution for n=100...\n",
      "DEBUG:root:Uniform probability distribution for n=100 generated in 0.022172927856445312ms!\n",
      "DEBUG:root:Getting uniform probability distribution for n=100...\n",
      "DEBUG:root:Uniform probability distribution for n=100 generated in 0.019073486328125ms!\n",
      "DEBUG:root:Getting uniform probability distribution for n=100...\n",
      "DEBUG:root:Uniform probability distribution for n=100 generated in 0.02193450927734375ms!\n",
      "DEBUG:root:Getting uniform probability distribution for n=100...\n",
      "DEBUG:root:Uniform probability distribution for n=100 generated in 0.02384185791015625ms!\n",
      "DEBUG:root:Getting uniform probability distribution for n=100...\n",
      "DEBUG:root:Uniform probability distribution for n=100 generated in 0.017881393432617188ms!\n",
      "DEBUG:root:Getting uniform probability distribution for n=100...\n",
      "DEBUG:root:Uniform probability distribution for n=100 generated in 0.019788742065429688ms!\n",
      "DEBUG:root:Getting uniform probability distribution for n=100...\n",
      "DEBUG:root:Uniform probability distribution for n=100 generated in 0.0209808349609375ms!\n",
      "DEBUG:root:Getting uniform probability distribution for n=100...\n",
      "DEBUG:root:Uniform probability distribution for n=100 generated in 0.02193450927734375ms!\n",
      "DEBUG:root:Getting uniform probability distribution for n=100...\n",
      "DEBUG:root:Uniform probability distribution for n=100 generated in 0.024080276489257812ms!\n",
      "DEBUG:root:Getting uniform probability distribution for n=100...\n",
      "DEBUG:root:Uniform probability distribution for n=100 generated in 0.01621246337890625ms!\n",
      "DEBUG:root:Getting uniform probability distribution for n=100...\n",
      "DEBUG:root:Uniform probability distribution for n=100 generated in 0.0209808349609375ms!\n"
     ]
    },
    {
     "name": "stdout",
     "output_type": "stream",
     "text": [
      "Calculating for c = 100...\n",
      "Calculating with options: sparse, uniform\n",
      "Calculating for c = 5...\n",
      "Calculating for c = 10...\n",
      "Calculating for c = 15...\n",
      "Calculating for c = 20...\n",
      "Calculating for c = 25...\n",
      "Calculating for c = 30...\n",
      "Calculating for c = 35...\n",
      "Calculating for c = 40...\n",
      "Calculating for c = 45...\n",
      "Calculating for c = 50...\n",
      "Calculating for c = 55...\n",
      "Calculating for c = 60...\n",
      "Calculating for c = 65...\n"
     ]
    },
    {
     "name": "stderr",
     "output_type": "stream",
     "text": [
      "DEBUG:root:Getting uniform probability distribution for n=100...\n",
      "DEBUG:root:Uniform probability distribution for n=100 generated in 0.019073486328125ms!\n",
      "DEBUG:root:Getting uniform probability distribution for n=100...\n",
      "DEBUG:root:Uniform probability distribution for n=100 generated in 0.02002716064453125ms!\n",
      "DEBUG:root:Getting uniform probability distribution for n=100...\n",
      "DEBUG:root:Uniform probability distribution for n=100 generated in 0.02193450927734375ms!\n",
      "DEBUG:root:Getting uniform probability distribution for n=100...\n",
      "DEBUG:root:Uniform probability distribution for n=100 generated in 0.031948089599609375ms!\n",
      "DEBUG:root:Getting uniform probability distribution for n=100...\n",
      "DEBUG:root:Uniform probability distribution for n=100 generated in 0.015735626220703125ms!\n",
      "DEBUG:root:Getting uniform probability distribution for n=100...\n",
      "DEBUG:root:Uniform probability distribution for n=100 generated in 0.010013580322265625ms!\n",
      "DEBUG:root:Getting uniform probability distribution for n=100...\n",
      "DEBUG:root:Uniform probability distribution for n=100 generated in 0.015974044799804688ms!\n"
     ]
    },
    {
     "name": "stdout",
     "output_type": "stream",
     "text": [
      "Calculating for c = 70...\n",
      "Calculating for c = 75...\n",
      "Calculating for c = 80...\n",
      "Calculating for c = 85...\n",
      "Calculating for c = 90...\n",
      "Calculating for c = 95...\n",
      "Calculating for c = 100...\n"
     ]
    }
   ],
   "source": [
    "# Gather results\n",
    "c_vals = np.array([] + list(range(5, 101, 5)))\n",
    "shape_a = (100, 100)\n",
    "shape_b = (100, 100)\n",
    "\n",
    "print(\"Calculating with options: dense, opt\")\n",
    "errors1, bounds1 = Experiments.const_dim_changing_c(shape_a=shape_a, \n",
    "                                                    shape_b=shape_b,\n",
    "                                                    list_c=c_vals,\n",
    "                                                    matrix_type=\"dense\",\n",
    "                                                    prob_dist_type=\"opt\",\n",
    "                                                    delta=0.01)\n",
    "\n",
    "print(\"Calculating with options: sparse, opt\")\n",
    "errors2, bounds2 = Experiments.const_dim_changing_c(shape_a=shape_a, \n",
    "                                                    shape_b=shape_b,\n",
    "                                                    list_c=c_vals,\n",
    "                                                    matrix_type=\"sparse\",\n",
    "                                                    prob_dist_type=\"opt\",\n",
    "                                                    delta=0.01)\n",
    "\n",
    "print(\"Calculating with options: dense, uniform\")\n",
    "errors3, bounds3 = Experiments.const_dim_changing_c(shape_a=shape_a, \n",
    "                                                    shape_b=shape_b,\n",
    "                                                    list_c=c_vals,\n",
    "                                                    matrix_type=\"dense\",\n",
    "                                                    prob_dist_type=\"uniform\",\n",
    "                                                    delta=0.01)\n",
    "\n",
    "print(\"Calculating with options: sparse, uniform\")\n",
    "errors4, bounds4 = Experiments.const_dim_changing_c(shape_a=shape_a, \n",
    "                                                    shape_b=shape_b,\n",
    "                                                    list_c=c_vals,\n",
    "                                                    matrix_type=\"sparse\",\n",
    "                                                    prob_dist_type=\"uniform\",\n",
    "                                                    delta=0.01)"
   ],
   "metadata": {
    "collapsed": false,
    "ExecuteTime": {
     "end_time": "2024-01-26T10:07:22.749302Z",
     "start_time": "2024-01-26T10:07:14.208512Z"
    }
   },
   "execution_count": 10
  },
  {
   "cell_type": "code",
   "outputs": [
    {
     "data": {
      "text/plain": "<matplotlib.legend.Legend at 0x16c35d610>"
     },
     "execution_count": 11,
     "metadata": {},
     "output_type": "execute_result"
    },
    {
     "data": {
      "text/plain": "<Figure size 640x480 with 1 Axes>",
      "image/png": "[encoded data removed]"
     },
     "metadata": {},
     "output_type": "display_data"
    }
   ],
   "source": [
    "# Eliminate matplotlib log output\n",
    "logger.setLevel(logging.WARN)\n",
    "\n",
    "# Plot results\n",
    "\n",
    "fig = plt.figure()\n",
    "yerr = np.linspace(1, 1, 100_000)\n",
    "ax = fig.add_subplot(2, 1, 1)\n",
    "ax.set_yscale('log')\n",
    "\n",
    "plt.errorbar(dimensions, errors1, label='error1', color='b')\n",
    "plt.errorbar(dimensions, bounds1, label='bound1', uplims=True, fmt='--', color='b')\n",
    "\n",
    "plt.errorbar(dimensions, errors2, label='error2', color='r')\n",
    "plt.errorbar(dimensions, bounds2, uplims=True, label='bound2', fmt=\"--\", color='r')\n",
    "\n",
    "plt.errorbar(dimensions, errors3, label='error3', color='g')\n",
    "plt.errorbar(dimensions, bounds3, uplims=True, label='bound3', fmt=\"--\", color='g')\n",
    "\n",
    "plt.errorbar(dimensions, errors4, label='error4', color='y')\n",
    "plt.errorbar(dimensions, bounds4, uplims=True, label='bound4', fmt=\"--\", color='y')\n",
    "\n",
    "plt.legend(loc='upper center', bbox_to_anchor=(0.5, 1.4),\n",
    "          ncol=3, fancybox=True, shadow=True)"
   ],
   "metadata": {
    "collapsed": false,
    "ExecuteTime": {
     "end_time": "2024-01-26T10:07:23.051892Z",
     "start_time": "2024-01-26T10:07:22.754876Z"
    }
   },
   "execution_count": 11
  }
 ],
 "metadata": {
  "kernelspec": {
   "display_name": "base",
   "language": "python",
   "name": "python3"
  },
  "language_info": {
   "name": "python",
   "version": "3.11.5"
  }
 },
 "nbformat": 4,
 "nbformat_minor": 2
}
