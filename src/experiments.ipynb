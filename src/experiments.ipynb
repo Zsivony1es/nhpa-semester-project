{
 "cells": [
  {
   "cell_type": "code",
   "execution_count": 1,
   "metadata": {
    "ExecuteTime": {
     "end_time": "2024-01-29T19:16:02.412935Z",
     "start_time": "2024-01-29T19:16:01.635121Z"
    }
   },
   "outputs": [],
   "source": [
    "import numpy as np\n",
    "import matplotlib.pyplot as plt\n",
    "import logging\n",
    "\n",
    "from experimentcontroller import ExperimentController"
   ]
  },
  {
   "cell_type": "code",
   "outputs": [],
   "source": [
    "# Set up logging\n",
    "logger = logging.getLogger()\n",
    "logger.setLevel(logging.WARN)"
   ],
   "metadata": {
    "collapsed": false,
    "ExecuteTime": {
     "end_time": "2024-01-29T19:16:02.421584Z",
     "start_time": "2024-01-29T19:16:02.375542Z"
    }
   },
   "execution_count": 2
  },
  {
   "cell_type": "markdown",
   "source": [
    "# Experiments\n",
    "### Fixed $c$, increasing dimensions\n",
    "\n",
    "In the following section I will test the algorithm's accuracy on matrices where the matching dimensions are increased, and everything else stays constant.\n",
    "$$ $$\n",
    "Random matrices with entries in $\\[0,1\\]$, sparse (density = 0.01) and dense\n",
    "$ \\delta = 0.05 \\quad c = 50 \\quad$ For dimensions 50 -> 1000 with increment of 50."
   ],
   "metadata": {
    "collapsed": false
   }
  },
  {
   "cell_type": "code",
   "outputs": [],
   "source": [
    "matrix_type_opts = ['dense', 'sparse']\n",
    "prob_dist_type_opts = ['uniform', 'opt']\n",
    "entries_type_opts = ['frac', 'int', 'float']\n",
    "\n",
    "fix_delta = 0.05\n",
    "\n",
    "exp_controller = ExperimentController()\n",
    "exp_controller.normalize_error(False)\n",
    "exp_controller.set_delta(fix_delta)"
   ],
   "metadata": {
    "collapsed": false,
    "ExecuteTime": {
     "end_time": "2024-01-29T19:28:30.660333Z",
     "start_time": "2024-01-29T19:28:30.649737Z"
    }
   },
   "execution_count": 7
  },
  {
   "cell_type": "code",
   "outputs": [
    {
     "name": "stdout",
     "output_type": "stream",
     "text": [
      "Calculating with options: dense, uniform\n",
      "Calculating for A: (100 x 50)   B: (50 x 100)\n",
      "Calculating for A: (100 x 100)   B: (100 x 100)\n",
      "Calculating for A: (100 x 150)   B: (150 x 100)\n",
      "Calculating for A: (100 x 200)   B: (200 x 100)\n",
      "Calculating for A: (100 x 250)   B: (250 x 100)\n",
      "Calculating for A: (100 x 300)   B: (300 x 100)\n",
      "Calculating for A: (100 x 350)   B: (350 x 100)\n",
      "Calculating for A: (100 x 400)   B: (400 x 100)\n",
      "Calculating for A: (100 x 450)   B: (450 x 100)\n",
      "Calculating for A: (100 x 500)   B: (500 x 100)\n",
      "Calculating for A: (100 x 550)   B: (550 x 100)\n",
      "Calculating for A: (100 x 600)   B: (600 x 100)\n",
      "Calculating for A: (100 x 650)   B: (650 x 100)\n",
      "Calculating for A: (100 x 700)   B: (700 x 100)\n",
      "Calculating for A: (100 x 750)   B: (750 x 100)\n",
      "Calculating for A: (100 x 800)   B: (800 x 100)\n",
      "Calculating for A: (100 x 850)   B: (850 x 100)\n",
      "Calculating for A: (100 x 900)   B: (900 x 100)\n",
      "Calculating for A: (100 x 950)   B: (950 x 100)\n",
      "Calculating for A: (100 x 1000)   B: (1000 x 100)\n",
      "Calculating with options: dense, opt\n",
      "Calculating for A: (100 x 50)   B: (50 x 100)\n",
      "Calculating for A: (100 x 100)   B: (100 x 100)\n",
      "Calculating for A: (100 x 150)   B: (150 x 100)\n",
      "Calculating for A: (100 x 200)   B: (200 x 100)\n",
      "Calculating for A: (100 x 250)   B: (250 x 100)\n",
      "Calculating for A: (100 x 300)   B: (300 x 100)\n",
      "Calculating for A: (100 x 350)   B: (350 x 100)\n",
      "Calculating for A: (100 x 400)   B: (400 x 100)\n",
      "Calculating for A: (100 x 450)   B: (450 x 100)\n",
      "Calculating for A: (100 x 500)   B: (500 x 100)\n",
      "Calculating for A: (100 x 550)   B: (550 x 100)\n",
      "Calculating for A: (100 x 600)   B: (600 x 100)\n",
      "Calculating for A: (100 x 650)   B: (650 x 100)\n",
      "Calculating for A: (100 x 700)   B: (700 x 100)\n",
      "Calculating for A: (100 x 750)   B: (750 x 100)\n",
      "Calculating for A: (100 x 800)   B: (800 x 100)\n",
      "Calculating for A: (100 x 850)   B: (850 x 100)\n",
      "Calculating for A: (100 x 900)   B: (900 x 100)\n",
      "Calculating for A: (100 x 950)   B: (950 x 100)\n",
      "Calculating for A: (100 x 1000)   B: (1000 x 100)\n",
      "Calculating with options: sparse, uniform\n",
      "Calculating for A: (100 x 50)   B: (50 x 100)\n",
      "Calculating for A: (100 x 100)   B: (100 x 100)\n",
      "Calculating for A: (100 x 150)   B: (150 x 100)\n",
      "Calculating for A: (100 x 200)   B: (200 x 100)\n",
      "Calculating for A: (100 x 250)   B: (250 x 100)\n",
      "Calculating for A: (100 x 300)   B: (300 x 100)\n",
      "Calculating for A: (100 x 350)   B: (350 x 100)\n",
      "Calculating for A: (100 x 400)   B: (400 x 100)\n",
      "Calculating for A: (100 x 450)   B: (450 x 100)\n",
      "Calculating for A: (100 x 500)   B: (500 x 100)\n",
      "Calculating for A: (100 x 550)   B: (550 x 100)\n",
      "Calculating for A: (100 x 600)   B: (600 x 100)\n",
      "Calculating for A: (100 x 650)   B: (650 x 100)\n",
      "Calculating for A: (100 x 700)   B: (700 x 100)\n",
      "Calculating for A: (100 x 750)   B: (750 x 100)\n",
      "Calculating for A: (100 x 800)   B: (800 x 100)\n",
      "Calculating for A: (100 x 850)   B: (850 x 100)\n",
      "Calculating for A: (100 x 900)   B: (900 x 100)\n",
      "Calculating for A: (100 x 950)   B: (950 x 100)\n",
      "Calculating for A: (100 x 1000)   B: (1000 x 100)\n",
      "Calculating with options: sparse, opt\n",
      "Calculating for A: (100 x 50)   B: (50 x 100)\n",
      "Calculating for A: (100 x 100)   B: (100 x 100)\n",
      "Calculating for A: (100 x 150)   B: (150 x 100)\n",
      "Calculating for A: (100 x 200)   B: (200 x 100)\n",
      "Calculating for A: (100 x 250)   B: (250 x 100)\n",
      "Calculating for A: (100 x 300)   B: (300 x 100)\n",
      "Calculating for A: (100 x 350)   B: (350 x 100)\n",
      "Calculating for A: (100 x 400)   B: (400 x 100)\n",
      "Calculating for A: (100 x 450)   B: (450 x 100)\n",
      "Calculating for A: (100 x 500)   B: (500 x 100)\n",
      "Calculating for A: (100 x 550)   B: (550 x 100)\n",
      "Calculating for A: (100 x 600)   B: (600 x 100)\n",
      "Calculating for A: (100 x 650)   B: (650 x 100)\n",
      "Calculating for A: (100 x 700)   B: (700 x 100)\n",
      "Calculating for A: (100 x 750)   B: (750 x 100)\n",
      "Calculating for A: (100 x 800)   B: (800 x 100)\n",
      "Calculating for A: (100 x 850)   B: (850 x 100)\n",
      "Calculating for A: (100 x 900)   B: (900 x 100)\n",
      "Calculating for A: (100 x 950)   B: (950 x 100)\n",
      "Calculating for A: (100 x 1000)   B: (1000 x 100)\n"
     ]
    }
   ],
   "source": [
    "# Gather results\n",
    "dimensions = [] + list(range(50, 1001, 50))\n",
    "fix_dim = 100\n",
    "fix_c = 50\n",
    "\n",
    "a_dims = np.column_stack((np.full(len(dimensions), fill_value=fix_dim), dimensions))\n",
    "b_dims = np.column_stack((dimensions, np.full(len(dimensions), fill_value=fix_dim)))\n",
    "\n",
    "error_bound_lists = []\n",
    "\n",
    "for matrix_type in matrix_type_opts:\n",
    "    exp_controller.set_matrix_type(matrix_type)\n",
    "    for prob_dist in prob_dist_type_opts:\n",
    "        exp_controller.set_prob_dist_type(prob_dist)\n",
    "        print(f\"Calculating with options: {matrix_type}, {prob_dist}\")\n",
    "        error_bound_lists.append(exp_controller.changing_dim_const_c(\n",
    "            a_dims=a_dims,\n",
    "            b_dims=b_dims,\n",
    "            c = fix_c\n",
    "            )\n",
    "        )"
   ],
   "metadata": {
    "collapsed": false,
    "ExecuteTime": {
     "end_time": "2024-01-29T19:16:47.802283Z",
     "start_time": "2024-01-29T19:16:21.733597Z"
    }
   },
   "execution_count": 4
  },
  {
   "cell_type": "markdown",
   "source": [
    "### Fix 100x100 dimension, but c is increased"
   ],
   "metadata": {
    "collapsed": false
   }
  },
  {
   "cell_type": "code",
   "outputs": [
    {
     "name": "stdout",
     "output_type": "stream",
     "text": [
      "Calculating with options: dense, uniform\n",
      "Calculating for c = 5...\n",
      "Calculating for c = 10...\n",
      "Calculating for c = 15...\n",
      "Calculating for c = 20...\n",
      "Calculating for c = 25...\n",
      "Calculating for c = 30...\n",
      "Calculating for c = 35...\n",
      "Calculating for c = 40...\n",
      "Calculating for c = 45...\n",
      "Calculating for c = 50...\n",
      "Calculating for c = 55...\n",
      "Calculating for c = 60...\n",
      "Calculating for c = 65...\n",
      "Calculating for c = 70...\n",
      "Calculating for c = 75...\n",
      "Calculating for c = 80...\n",
      "Calculating for c = 85...\n",
      "Calculating for c = 90...\n",
      "Calculating for c = 95...\n",
      "Calculating for c = 100...\n",
      "Calculating with options: dense, opt\n",
      "Calculating for c = 5...\n",
      "Calculating for c = 10...\n",
      "Calculating for c = 15...\n",
      "Calculating for c = 20...\n",
      "Calculating for c = 25...\n",
      "Calculating for c = 30...\n",
      "Calculating for c = 35...\n",
      "Calculating for c = 40...\n",
      "Calculating for c = 45...\n",
      "Calculating for c = 50...\n",
      "Calculating for c = 55...\n",
      "Calculating for c = 60...\n",
      "Calculating for c = 65...\n",
      "Calculating for c = 70...\n",
      "Calculating for c = 75...\n",
      "Calculating for c = 80...\n",
      "Calculating for c = 85...\n",
      "Calculating for c = 90...\n",
      "Calculating for c = 95...\n",
      "Calculating for c = 100...\n",
      "Calculating with options: sparse, uniform\n",
      "Calculating for c = 5...\n",
      "Calculating for c = 10...\n",
      "Calculating for c = 15...\n",
      "Calculating for c = 20...\n",
      "Calculating for c = 25...\n",
      "Calculating for c = 30...\n",
      "Calculating for c = 35...\n",
      "Calculating for c = 40...\n",
      "Calculating for c = 45...\n",
      "Calculating for c = 50...\n",
      "Calculating for c = 55...\n",
      "Calculating for c = 60...\n",
      "Calculating for c = 65...\n",
      "Calculating for c = 70...\n",
      "Calculating for c = 75...\n",
      "Calculating for c = 80...\n",
      "Calculating for c = 85...\n",
      "Calculating for c = 90...\n",
      "Calculating for c = 95...\n",
      "Calculating for c = 100...\n",
      "Calculating with options: sparse, opt\n",
      "Calculating for c = 5...\n",
      "Calculating for c = 10...\n",
      "Calculating for c = 15...\n",
      "Calculating for c = 20...\n",
      "Calculating for c = 25...\n",
      "Calculating for c = 30...\n",
      "Calculating for c = 35...\n",
      "Calculating for c = 40...\n",
      "Calculating for c = 45...\n",
      "Calculating for c = 50...\n",
      "Calculating for c = 55...\n",
      "Calculating for c = 60...\n",
      "Calculating for c = 65...\n",
      "Calculating for c = 70...\n",
      "Calculating for c = 75...\n",
      "Calculating for c = 80...\n",
      "Calculating for c = 85...\n",
      "Calculating for c = 90...\n",
      "Calculating for c = 95...\n",
      "Calculating for c = 100...\n"
     ]
    }
   ],
   "source": [
    "# Gather results\n",
    "c_vals = np.array([] + list(range(5, 101, 5)))\n",
    "shape_a = (100, 100)\n",
    "shape_b = (100, 100)\n",
    "\n",
    "error_bound_lists = []\n",
    "\n",
    "for matrix_type in matrix_type_opts:\n",
    "    exp_controller.set_matrix_type(matrix_type)\n",
    "    for prob_dist in prob_dist_type_opts:\n",
    "        exp_controller.set_prob_dist_type(prob_dist)\n",
    "        print(f\"Calculating with options: {matrix_type}, {prob_dist}\")\n",
    "        error_bound_lists.append(exp_controller.const_dim_changing_c(\n",
    "            shape_a=shape_a, \n",
    "            shape_b=shape_b,\n",
    "            list_c=c_vals\n",
    "            )\n",
    "        )"
   ],
   "metadata": {
    "collapsed": false,
    "ExecuteTime": {
     "end_time": "2024-01-29T19:28:41.077617Z",
     "start_time": "2024-01-29T19:28:33.416581Z"
    }
   },
   "execution_count": 8
  },
  {
   "cell_type": "code",
   "outputs": [
    {
     "data": {
      "text/plain": "<matplotlib.legend.Legend at 0x14a1e24f0>"
     },
     "execution_count": 10,
     "metadata": {},
     "output_type": "execute_result"
    },
    {
     "data": {
      "text/plain": "<Figure size 640x480 with 1 Axes>",
      "image/png": "[encoded data removed]"
     },
     "metadata": {},
     "output_type": "display_data"
    }
   ],
   "source": [
    "# Eliminate matplotlib log output\n",
    "logger.setLevel(logging.WARN)\n",
    "\n",
    "# Plot results\n",
    "\n",
    "fig = plt.figure()\n",
    "yerr = np.linspace(1, 1, 100_000)\n",
    "ax = fig.add_subplot(2, 1, 1)\n",
    "ax.set_yscale('log')\n",
    "\n",
    "color_map = ['b', 'r', 'g', 'y']\n",
    "for index, (errors, bounds) in enumerate(error_bound_lists):\n",
    "    if index in [0,2]:\n",
    "        plt.errorbar(dimensions, errors, label=f\"error{index}\", color=color_map[index])\n",
    "        plt.errorbar(dimensions, bounds, label=f\"bound{index}\", uplims=True, fmt='--', color=color_map[index])\n",
    "\n",
    "plt.legend(loc='upper center', bbox_to_anchor=(0.5, 1.4),\n",
    "          ncol=3, fancybox=True, shadow=True)"
   ],
   "metadata": {
    "collapsed": false,
    "ExecuteTime": {
     "end_time": "2024-01-29T19:28:48.372955Z",
     "start_time": "2024-01-29T19:28:48.131877Z"
    }
   },
   "execution_count": 10
  },
  {
   "cell_type": "markdown",
   "source": [
    "## Trying Element-wise Matrix Multiplication\n",
    "\n",
    "Here I only tested square matrices, since only those are bounded in the paper"
   ],
   "metadata": {
    "collapsed": false
   }
  },
  {
   "cell_type": "code",
   "outputs": [],
   "source": [
    "exp_controller.set_algorithm(\"emm\")"
   ],
   "metadata": {
    "collapsed": false
   }
  }
 ],
 "metadata": {
  "kernelspec": {
   "display_name": "base",
   "language": "python",
   "name": "python3"
  },
  "language_info": {
   "name": "python",
   "version": "3.11.5"
  }
 },
 "nbformat": 4,
 "nbformat_minor": 2
}
