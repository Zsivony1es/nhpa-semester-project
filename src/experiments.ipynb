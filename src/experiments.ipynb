{
 "cells": [
  {
   "cell_type": "code",
   "execution_count": 1,
   "metadata": {
    "ExecuteTime": {
     "end_time": "2024-01-26T10:51:52.502122Z",
     "start_time": "2024-01-26T10:51:52.042069Z"
    }
   },
   "outputs": [],
   "source": [
    "import numpy as np\n",
    "import matplotlib.pyplot as plt\n",
    "import logging\n",
    "\n",
    "from experiments import Experiments"
   ]
  },
  {
   "cell_type": "code",
   "outputs": [],
   "source": [
    "# Set up logging\n",
    "logger = logging.getLogger()\n",
    "logger.setLevel(logging.WARN)"
   ],
   "metadata": {
    "collapsed": false,
    "ExecuteTime": {
     "end_time": "2024-01-26T10:51:52.503459Z",
     "start_time": "2024-01-26T10:51:52.494255Z"
    }
   },
   "execution_count": 2
  },
  {
   "cell_type": "markdown",
   "source": [
    "# Experiments\n",
    "### Fixed $c$, increasing dimensions\n",
    "\n",
    "In the following section I will test the algorithm's accuracy on matrices where the matching dimensions are increased, and everything else stays constant.\n",
    "$$ $$\n",
    "Random matrices with entries in $\\[0,1\\]$, sparse (density = 0.01) and dense\n",
    "$ \\delta = 0.05 \\quad c = 50 \\quad$ For dimensions 50 -> 1000 with increment of 50."
   ],
   "metadata": {
    "collapsed": false
   }
  },
  {
   "cell_type": "code",
   "outputs": [
    {
     "name": "stdout",
     "output_type": "stream",
     "text": [
      "Calculating with options: dense, opt, \n",
      "Calculating for A: (100 x 50)   B: (50 x 100)\n"
     ]
    },
    {
     "ename": "AttributeError",
     "evalue": "type object 'Helpers' has no attribute 'generate_matrices'",
     "output_type": "error",
     "traceback": [
      "\u001B[0;31m---------------------------------------------------------------------------\u001B[0m",
      "\u001B[0;31mAttributeError\u001B[0m                            Traceback (most recent call last)",
      "Cell \u001B[0;32mIn[3], line 11\u001B[0m\n\u001B[1;32m      8\u001B[0m errorandboundlists \u001B[38;5;241m=\u001B[39m []\n\u001B[1;32m     10\u001B[0m \u001B[38;5;28mprint\u001B[39m(\u001B[38;5;124m\"\u001B[39m\u001B[38;5;124mCalculating with options: dense, opt, \u001B[39m\u001B[38;5;124m\"\u001B[39m)\n\u001B[0;32m---> 11\u001B[0m errorandboundlists\u001B[38;5;241m.\u001B[39mappend(\u001B[43mExperiments\u001B[49m\u001B[38;5;241;43m.\u001B[39;49m\u001B[43mchanging_dim_const_c\u001B[49m\u001B[43m(\u001B[49m\u001B[43ma_dims\u001B[49m\u001B[38;5;241;43m=\u001B[39;49m\u001B[43ma_dims\u001B[49m\u001B[43m,\u001B[49m\n\u001B[1;32m     12\u001B[0m \u001B[43m                                                  \u001B[49m\u001B[43mb_dims\u001B[49m\u001B[38;5;241;43m=\u001B[39;49m\u001B[43mb_dims\u001B[49m\u001B[43m,\u001B[49m\n\u001B[1;32m     13\u001B[0m \u001B[43m                                                  \u001B[49m\u001B[43mc\u001B[49m\u001B[43m \u001B[49m\u001B[38;5;241;43m=\u001B[39;49m\u001B[43m \u001B[49m\u001B[38;5;241;43m50\u001B[39;49m\u001B[43m,\u001B[49m\n\u001B[1;32m     14\u001B[0m \u001B[43m                                                  \u001B[49m\u001B[43mmatrix_type\u001B[49m\u001B[43m \u001B[49m\u001B[38;5;241;43m=\u001B[39;49m\u001B[43m \u001B[49m\u001B[38;5;124;43m\"\u001B[39;49m\u001B[38;5;124;43mdense\u001B[39;49m\u001B[38;5;124;43m\"\u001B[39;49m\u001B[43m,\u001B[49m\n\u001B[1;32m     15\u001B[0m \u001B[43m                                                  \u001B[49m\u001B[43mprob_dist_type\u001B[49m\u001B[43m \u001B[49m\u001B[38;5;241;43m=\u001B[39;49m\u001B[43m \u001B[49m\u001B[38;5;124;43m\"\u001B[39;49m\u001B[38;5;124;43mopt\u001B[39;49m\u001B[38;5;124;43m\"\u001B[39;49m\u001B[43m,\u001B[49m\n\u001B[1;32m     16\u001B[0m \u001B[43m                                                  \u001B[49m\u001B[43mdelta\u001B[49m\u001B[43m \u001B[49m\u001B[38;5;241;43m=\u001B[39;49m\u001B[43m \u001B[49m\u001B[38;5;241;43m0.05\u001B[39;49m\u001B[43m)\u001B[49m)\n\u001B[1;32m     18\u001B[0m \u001B[38;5;28mprint\u001B[39m(\u001B[38;5;124m\"\u001B[39m\u001B[38;5;124mCalculating with options: sparse, opt\u001B[39m\u001B[38;5;124m\"\u001B[39m)\n\u001B[1;32m     19\u001B[0m errorandboundlists\u001B[38;5;241m.\u001B[39mappend(Experiments\u001B[38;5;241m.\u001B[39mchanging_dim_const_c(a_dims\u001B[38;5;241m=\u001B[39ma_dims,\n\u001B[1;32m     20\u001B[0m                                                   b_dims\u001B[38;5;241m=\u001B[39mb_dims,\n\u001B[1;32m     21\u001B[0m                                                   c \u001B[38;5;241m=\u001B[39m \u001B[38;5;241m50\u001B[39m,\n\u001B[1;32m     22\u001B[0m                                                   matrix_type \u001B[38;5;241m=\u001B[39m \u001B[38;5;124m\"\u001B[39m\u001B[38;5;124msparse\u001B[39m\u001B[38;5;124m\"\u001B[39m,\n\u001B[1;32m     23\u001B[0m                                                   prob_dist_type \u001B[38;5;241m=\u001B[39m \u001B[38;5;124m\"\u001B[39m\u001B[38;5;124mopt\u001B[39m\u001B[38;5;124m\"\u001B[39m,\n\u001B[1;32m     24\u001B[0m                                                   delta \u001B[38;5;241m=\u001B[39m \u001B[38;5;241m0.05\u001B[39m))\n",
      "File \u001B[0;32m~/Documents/Egyetem/NHPA/SemProj/src/experiments.py:99\u001B[0m, in \u001B[0;36mExperiments.changing_dim_const_c\u001B[0;34m(a_dims, b_dims, c, matrix_type, prob_dist_type, delta)\u001B[0m\n\u001B[1;32m     96\u001B[0m \u001B[38;5;28;01mfor\u001B[39;00m i \u001B[38;5;129;01min\u001B[39;00m \u001B[38;5;28mrange\u001B[39m(a_dims\u001B[38;5;241m.\u001B[39mshape[\u001B[38;5;241m0\u001B[39m]):\n\u001B[1;32m     97\u001B[0m     \u001B[38;5;28mprint\u001B[39m(\u001B[38;5;124mf\u001B[39m\u001B[38;5;124m\"\u001B[39m\u001B[38;5;124mCalculating for A: (\u001B[39m\u001B[38;5;132;01m{\u001B[39;00ma_dims[i,\u001B[38;5;250m \u001B[39m\u001B[38;5;241m0\u001B[39m]\u001B[38;5;132;01m}\u001B[39;00m\u001B[38;5;124m x \u001B[39m\u001B[38;5;132;01m{\u001B[39;00ma_dims[i,\u001B[38;5;250m \u001B[39m\u001B[38;5;241m1\u001B[39m]\u001B[38;5;132;01m}\u001B[39;00m\u001B[38;5;124m)   B: (\u001B[39m\u001B[38;5;132;01m{\u001B[39;00mb_dims[i,\u001B[38;5;250m \u001B[39m\u001B[38;5;241m0\u001B[39m]\u001B[38;5;132;01m}\u001B[39;00m\u001B[38;5;124m x \u001B[39m\u001B[38;5;132;01m{\u001B[39;00mb_dims[i,\u001B[38;5;250m \u001B[39m\u001B[38;5;241m1\u001B[39m]\u001B[38;5;132;01m}\u001B[39;00m\u001B[38;5;124m)\u001B[39m\u001B[38;5;124m\"\u001B[39m)\n\u001B[0;32m---> 99\u001B[0m     A, B \u001B[38;5;241m=\u001B[39m \u001B[43mHelpers\u001B[49m\u001B[38;5;241;43m.\u001B[39;49m\u001B[43mgenerate_matrices\u001B[49m(shape_a\u001B[38;5;241m=\u001B[39ma_dims[i],\n\u001B[1;32m    100\u001B[0m                                      shape_b\u001B[38;5;241m=\u001B[39mb_dims[i],\n\u001B[1;32m    101\u001B[0m                                      matrix_type\u001B[38;5;241m=\u001B[39mmatrix_type)\n\u001B[1;32m    103\u001B[0m     \u001B[38;5;28;01mif\u001B[39;00m prob_dist_type \u001B[38;5;241m==\u001B[39m \u001B[38;5;124m\"\u001B[39m\u001B[38;5;124mopt\u001B[39m\u001B[38;5;124m\"\u001B[39m:\n\u001B[1;32m    104\u001B[0m         prob \u001B[38;5;241m=\u001B[39m Distributions\u001B[38;5;241m.\u001B[39mget_opt_probdist_bmm(A, B)\n",
      "\u001B[0;31mAttributeError\u001B[0m: type object 'Helpers' has no attribute 'generate_matrices'"
     ]
    }
   ],
   "source": [
    "# Gather results\n",
    "dimensions = [] + list(range(50, 1001, 50))\n",
    "fix_dim = 100\n",
    "\n",
    "a_dims = np.column_stack((np.full(len(dimensions), fill_value=fix_dim), dimensions))\n",
    "b_dims = np.column_stack((dimensions, np.full(len(dimensions), fill_value=fix_dim)))\n",
    "\n",
    "errorandboundlists = []\n",
    "\n",
    "print(\"Calculating with options: dense, opt, \")\n",
    "errorandboundlists.append(Experiments.changing_dim_const_c(a_dims=a_dims,\n",
    "                                                  b_dims=b_dims,\n",
    "                                                  c = 50,\n",
    "                                                  matrix_type = \"dense\",\n",
    "                                                  prob_dist_type = \"opt\",\n",
    "                                                  delta = 0.05))\n",
    "\n",
    "print(\"Calculating with options: sparse, opt\")\n",
    "errorandboundlists.append(Experiments.changing_dim_const_c(a_dims=a_dims,\n",
    "                                                  b_dims=b_dims,\n",
    "                                                  c = 50,\n",
    "                                                  matrix_type = \"sparse\",\n",
    "                                                  prob_dist_type = \"opt\",\n",
    "                                                  delta = 0.05))\n",
    "\n",
    "print(\"Calculating with options: dense, uniform\")\n",
    "errorandboundlists.append(Experiments.changing_dim_const_c(a_dims=a_dims,\n",
    "                                                  b_dims=b_dims,\n",
    "                                                  c = 50,\n",
    "                                                  matrix_type = \"dense\",\n",
    "                                                  prob_dist_type = \"uniform\",\n",
    "                                                  delta = 0.05))\n",
    "\n",
    "print(\"Calculating with options: sparse, uniform\")\n",
    "errorandboundlists.append(Experiments.changing_dim_const_c(a_dims=a_dims,\n",
    "                                                  b_dims=b_dims,\n",
    "                                                  c = 50,\n",
    "                                                  matrix_type = \"sparse\",\n",
    "                                                  prob_dist_type = \"uniform\",\n",
    "                                                  delta = 0.05))"
   ],
   "metadata": {
    "collapsed": false,
    "ExecuteTime": {
     "end_time": "2024-01-26T10:51:52.632031Z",
     "start_time": "2024-01-26T10:51:52.494525Z"
    }
   },
   "execution_count": 3
  },
  {
   "cell_type": "markdown",
   "source": [
    "### Fix 100x100 dimension, but c is increased"
   ],
   "metadata": {
    "collapsed": false
   }
  },
  {
   "cell_type": "code",
   "outputs": [],
   "source": [
    "# Gather results\n",
    "c_vals = np.array([] + list(range(5, 101, 5)))\n",
    "shape_a = (100, 100)\n",
    "shape_b = (100, 100)\n",
    "\n",
    "errorandboundlists = []\n",
    "\n",
    "print(\"Calculating with options: dense, opt\")\n",
    "errorandboundlists.append(Experiments.const_dim_changing_c(shape_a=shape_a, \n",
    "                                                    shape_b=shape_b,\n",
    "                                                    list_c=c_vals,\n",
    "                                                    matrix_type=\"dense\",\n",
    "                                                    prob_dist_type=\"opt\",\n",
    "                                                    delta=0.01))\n",
    "\n",
    "print(\"Calculating with options: sparse, opt\")\n",
    "errorandboundlists.append(Experiments.const_dim_changing_c(shape_a=shape_a, \n",
    "                                                    shape_b=shape_b,\n",
    "                                                    list_c=c_vals,\n",
    "                                                    matrix_type=\"sparse\",\n",
    "                                                    prob_dist_type=\"opt\",\n",
    "                                                    delta=0.01))\n",
    "\n",
    "print(\"Calculating with options: dense, uniform\")\n",
    "errorandboundlists.append(Experiments.const_dim_changing_c(shape_a=shape_a, \n",
    "                                                    shape_b=shape_b,\n",
    "                                                    list_c=c_vals,\n",
    "                                                    matrix_type=\"dense\",\n",
    "                                                    prob_dist_type=\"uniform\",\n",
    "                                                    delta=0.01))\n",
    "\n",
    "print(\"Calculating with options: sparse, uniform\")\n",
    "errorandboundlists.append(Experiments.const_dim_changing_c(shape_a=shape_a, \n",
    "                                                    shape_b=shape_b,\n",
    "                                                    list_c=c_vals,\n",
    "                                                    matrix_type=\"sparse\",\n",
    "                                                    prob_dist_type=\"uniform\",\n",
    "                                                    delta=0.01))"
   ],
   "metadata": {
    "collapsed": false,
    "ExecuteTime": {
     "start_time": "2024-01-26T10:51:52.631365Z"
    }
   },
   "execution_count": null
  },
  {
   "cell_type": "code",
   "outputs": [],
   "source": [
    "# Eliminate matplotlib log output\n",
    "logger.setLevel(logging.WARN)\n",
    "\n",
    "# Plot results\n",
    "\n",
    "fig = plt.figure()\n",
    "yerr = np.linspace(1, 1, 100_000)\n",
    "ax = fig.add_subplot(2, 1, 1)\n",
    "ax.set_yscale('log')\n",
    "\n",
    "color_map = ['b', 'r', 'g', 'y']\n",
    "for index, (errors, bounds) in enumerate(errorandboundlists): \n",
    "    plt.errorbar(dimensions, errors, label=f\"error{index}\", color=color_map[index])\n",
    "    plt.errorbar(dimensions, bounds, label=f\"bound{index}\", uplims=True, fmt='--', color=color_map[index])\n",
    "\n",
    "plt.legend(loc='upper center', bbox_to_anchor=(0.5, 1.4),\n",
    "          ncol=3, fancybox=True, shadow=True)"
   ],
   "metadata": {
    "collapsed": false,
    "ExecuteTime": {
     "end_time": "2024-01-26T10:51:52.632677Z",
     "start_time": "2024-01-26T10:51:52.632422Z"
    }
   },
   "execution_count": null
  }
 ],
 "metadata": {
  "kernelspec": {
   "display_name": "base",
   "language": "python",
   "name": "python3"
  },
  "language_info": {
   "name": "python",
   "version": "3.11.5"
  }
 },
 "nbformat": 4,
 "nbformat_minor": 2
}
