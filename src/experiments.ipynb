{
 "cells": [
  {
   "cell_type": "code",
   "execution_count": 3,
   "metadata": {
    "ExecuteTime": {
     "end_time": "2024-01-24T19:22:42.728362Z",
     "start_time": "2024-01-24T19:22:42.723622Z"
    }
   },
   "outputs": [],
   "source": [
    "import numpy as np\n",
    "import matplotlib.pyplot as plt\n",
    "import scipy\n",
    "\n",
    "from algos import Algorithms\n",
    "from distributions import Distributions\n",
    "from bounds import Bounds"
   ]
  },
  {
   "cell_type": "markdown",
   "source": [
    "![Formula for p_i](../res/p_i-formula.png \"Formula for $p_i$\")\n",
    "![Bounds](../res/bounds.png \"Bounds\")"
   ],
   "metadata": {
    "collapsed": false
   }
  },
  {
   "cell_type": "markdown",
   "source": [
    "# Experiments\n",
    "### Fixed $c$, increasing dimensions\n",
    "\n",
    "In the following section I will test the algorithm's accuracy on matrices where the matching dimensions are increased, and everything else stays constant.\n",
    "$$ $$\n",
    "Random matrices with entries in $\\[0,1\\]$, sparse (density = 0.01) and dense\n",
    "$ \\delta = 0.05 \\quad c = 50 \\quad$ For dimensions 50 -> 1000 with increment of 50."
   ],
   "metadata": {
    "collapsed": false
   }
  },
  {
   "cell_type": "code",
   "outputs": [
    {
     "name": "stdout",
     "output_type": "stream",
     "text": [
      "Calculating for random matrices\n",
      "Calculating for dimension 50/1000...\n",
      "Calculating for dimension 75/1000...\n",
      "Calculating for dimension 100/1000...\n",
      "Calculating for dimension 125/1000...\n",
      "Calculating for dimension 150/1000...\n",
      "Calculating for dimension 175/1000...\n",
      "Calculating for dimension 200/1000...\n",
      "Calculating for dimension 225/1000...\n",
      "Calculating for dimension 250/1000...\n",
      "Calculating for dimension 275/1000...\n",
      "Calculating for dimension 300/1000...\n",
      "Calculating for dimension 325/1000...\n",
      "Calculating for dimension 350/1000...\n",
      "Calculating for dimension 375/1000...\n",
      "Calculating for dimension 400/1000...\n",
      "Calculating for dimension 425/1000...\n",
      "Calculating for dimension 450/1000...\n",
      "Calculating for dimension 475/1000...\n",
      "Calculating for dimension 500/1000...\n",
      "Calculating for dimension 525/1000...\n",
      "Calculating for dimension 550/1000...\n",
      "Calculating for dimension 575/1000...\n",
      "Calculating for dimension 600/1000...\n",
      "Calculating for dimension 625/1000...\n",
      "Calculating for dimension 650/1000...\n",
      "Calculating for dimension 675/1000...\n",
      "Calculating for dimension 700/1000...\n",
      "Calculating for dimension 725/1000...\n",
      "Calculating for dimension 750/1000...\n",
      "Calculating for dimension 775/1000...\n",
      "Calculating for dimension 800/1000...\n",
      "Calculating for dimension 825/1000...\n",
      "Calculating for dimension 850/1000...\n",
      "Calculating for dimension 875/1000...\n",
      "Calculating for dimension 900/1000...\n",
      "Calculating for dimension 925/1000...\n",
      "Calculating for dimension 950/1000...\n",
      "Calculating for dimension 975/1000...\n",
      "Calculating for dimension 1000/1000...\n"
     ]
    }
   ],
   "source": [
    "# Gather results\n",
    "dimensions = [] + list(range(50, 1001, 25))\n",
    "errors_normal = []\n",
    "bounds_normal = []\n",
    "errors_sparse = []\n",
    "bounds_sparse = []\n",
    "\n",
    "print(\"Calculating for random matrices\")\n",
    "for dim in dimensions:\n",
    "    print(f\"Calculating for dimension {dim}/1000...\")\n",
    "    c = 50\n",
    "    \n",
    "    A = np.random.rand(1000, dim)\n",
    "    B = np.random.rand(dim, 1000)\n",
    "    \n",
    "    prob = Distributions.get_optimal_probdist(A, B)\n",
    "    res = Algorithms.basic_matrix_mult(A, B, c=c, prob=prob)\n",
    "    \n",
    "    delta = 0.05\n",
    "    whp_bound = Bounds.calculate_prob_bound(A=A, B=B, c=c, delta=delta)\n",
    "    \n",
    "    errors_normal.append(np.linalg.norm(A @ B - res, ord='fro'))\n",
    "    bounds_normal.append(whp_bound)"
   ],
   "metadata": {
    "collapsed": false,
    "ExecuteTime": {
     "end_time": "2024-01-24T19:27:15.977056Z",
     "start_time": "2024-01-24T19:22:44.083995Z"
    }
   },
   "execution_count": 4
  },
  {
   "cell_type": "code",
   "outputs": [
    {
     "name": "stdout",
     "output_type": "stream",
     "text": [
      "Calculating for random sparse matrices\n",
      "Calculating for dimension 50/1000...\n",
      "Calculating for dimension 75/1000...\n",
      "Calculating for dimension 100/1000...\n",
      "Calculating for dimension 125/1000...\n",
      "Calculating for dimension 150/1000...\n",
      "Calculating for dimension 175/1000...\n",
      "Calculating for dimension 200/1000...\n",
      "Calculating for dimension 225/1000...\n",
      "Calculating for dimension 250/1000...\n",
      "Calculating for dimension 275/1000...\n",
      "Calculating for dimension 300/1000...\n",
      "Calculating for dimension 325/1000...\n",
      "Calculating for dimension 350/1000...\n",
      "Calculating for dimension 375/1000...\n",
      "Calculating for dimension 400/1000...\n",
      "Calculating for dimension 425/1000...\n",
      "Calculating for dimension 450/1000...\n",
      "Calculating for dimension 475/1000...\n",
      "Calculating for dimension 500/1000...\n",
      "Calculating for dimension 525/1000...\n",
      "Calculating for dimension 550/1000...\n",
      "Calculating for dimension 575/1000...\n",
      "Calculating for dimension 600/1000...\n",
      "Calculating for dimension 625/1000...\n",
      "Calculating for dimension 650/1000...\n",
      "Calculating for dimension 675/1000...\n",
      "Calculating for dimension 700/1000...\n",
      "Calculating for dimension 725/1000...\n",
      "Calculating for dimension 750/1000...\n",
      "Calculating for dimension 775/1000...\n",
      "Calculating for dimension 800/1000...\n",
      "Calculating for dimension 825/1000...\n",
      "Calculating for dimension 850/1000...\n",
      "Calculating for dimension 875/1000...\n",
      "Calculating for dimension 900/1000...\n",
      "Calculating for dimension 925/1000...\n",
      "Calculating for dimension 950/1000...\n",
      "Calculating for dimension 975/1000...\n",
      "Calculating for dimension 1000/1000...\n"
     ]
    }
   ],
   "source": [
    "print(\"Calculating for random sparse matrices\")\n",
    "for dim in dimensions:\n",
    "    print(f\"Calculating for dimension {dim}/1000...\")\n",
    "    c = 50\n",
    "    \n",
    "    A = scipy.sparse.random(1000, dim, density=0.01).toarray()\n",
    "    B = scipy.sparse.random(dim, 1000, density=0.01).toarray()\n",
    "    \n",
    "    prob = Distributions.get_optimal_probdist(A, B)\n",
    "    res = Algorithms.basic_matrix_mult(A, B, c=c, prob=prob)\n",
    "    \n",
    "    delta = 0.05\n",
    "    whp_bound = Bounds.calculate_prob_bound(A=A, B=B, c=c, delta=delta)\n",
    "    \n",
    "    errors_sparse.append(np.linalg.norm(A @ B - res, ord='fro'))\n",
    "    bounds_sparse.append(whp_bound)"
   ],
   "metadata": {
    "collapsed": false,
    "ExecuteTime": {
     "end_time": "2024-01-24T19:38:24.336031Z",
     "start_time": "2024-01-24T19:34:19.591611Z"
    }
   },
   "execution_count": 5
  },
  {
   "cell_type": "code",
   "outputs": [
    {
     "data": {
      "text/plain": "<matplotlib.legend.Legend at 0x11793d0a0>"
     },
     "execution_count": 6,
     "metadata": {},
     "output_type": "execute_result"
    },
    {
     "data": {
      "text/plain": "<Figure size 640x480 with 1 Axes>",
      "image/png": "[encoded data removed]"
     },
     "metadata": {},
     "output_type": "display_data"
    }
   ],
   "source": [
    "# Plot results\n",
    "\n",
    "fig = plt.figure()\n",
    "yerr = np.linspace(1, 1, 100_000)\n",
    "ax = fig.add_subplot(2, 1, 1)\n",
    "ax.set_yscale('log')\n",
    "\n",
    "plt.errorbar(dimensions, errors_normal, label='error_normal')\n",
    "plt.errorbar(dimensions, bounds_normal, label='bound_normal', uplims=True, fmt='--')\n",
    "\n",
    "plt.errorbar(dimensions, errors_sparse, label='error_sparse')\n",
    "plt.errorbar(dimensions, bounds_sparse, uplims=True, label='bound_sparse', fmt=\"--\")\n",
    "\n",
    "plt.legend(loc='upper center', bbox_to_anchor=(0.5, 1.4),\n",
    "          ncol=3, fancybox=True, shadow=True)"
   ],
   "metadata": {
    "collapsed": false,
    "ExecuteTime": {
     "end_time": "2024-01-24T19:50:13.276716Z",
     "start_time": "2024-01-24T19:50:12.904519Z"
    }
   },
   "execution_count": 6
  },
  {
   "cell_type": "markdown",
   "source": [
    "### Fix 1000x1000 dimension, but c is increased"
   ],
   "metadata": {
    "collapsed": false
   }
  },
  {
   "cell_type": "code",
   "outputs": [
    {
     "name": "stdout",
     "output_type": "stream",
     "text": [
      "Calculating for random matrices\n",
      "Calculating for c = 50...\n",
      "Calculating for c = 100...\n",
      "Calculating for c = 150...\n",
      "Calculating for c = 200...\n",
      "Calculating for c = 250...\n",
      "Calculating for c = 300...\n",
      "Calculating for c = 350...\n",
      "Calculating for c = 400...\n",
      "Calculating for c = 450...\n",
      "Calculating for c = 500...\n",
      "Calculating for c = 550...\n",
      "Calculating for c = 600...\n",
      "Calculating for c = 650...\n",
      "Calculating for c = 700...\n",
      "Calculating for c = 750...\n",
      "Calculating for c = 800...\n",
      "Calculating for c = 850...\n",
      "Calculating for c = 900...\n",
      "Calculating for c = 950...\n",
      "Calculating for c = 1000...\n",
      "Calculating for random sparse matrices\n",
      "Calculating for c = 50...\n",
      "Calculating for c = 100...\n",
      "Calculating for c = 150...\n",
      "Calculating for c = 200...\n",
      "Calculating for c = 250...\n",
      "Calculating for c = 300...\n",
      "Calculating for c = 350...\n",
      "Calculating for c = 400...\n",
      "Calculating for c = 450...\n",
      "Calculating for c = 500...\n",
      "Calculating for c = 550...\n",
      "Calculating for c = 600...\n",
      "Calculating for c = 650...\n",
      "Calculating for c = 700...\n",
      "Calculating for c = 750...\n",
      "Calculating for c = 800...\n",
      "Calculating for c = 850...\n",
      "Calculating for c = 900...\n",
      "Calculating for c = 950...\n",
      "Calculating for c = 1000...\n"
     ]
    }
   ],
   "source": [
    "# Gather results\n",
    "c_vals = [] + list(range(50, 1001, 50))\n",
    "errors_normal = []\n",
    "bounds_normal = []\n",
    "errors_sparse = []\n",
    "bounds_sparse = []\n",
    "\n",
    "print(\"Calculating for random matrices\")\n",
    "for c in c_vals:\n",
    "    print(f\"Calculating for c = {c}...\")\n",
    "    \n",
    "    A = np.random.rand(1000, 1000)\n",
    "    B = np.random.rand(1000, 1000)\n",
    "    \n",
    "    prob = Algorithms.get_optimal_probdist(A, B)\n",
    "    res = Algorithms.basic_matrix_mult(A, B, c=c, prob=prob)\n",
    "    \n",
    "    delta = 0.05\n",
    "    whp_bound = Algorithms.calculate_prob_bound(A=A, B=B, c=c, delta=delta)\n",
    "    \n",
    "    errors_normal.append(np.linalg.norm(A @ B - res, ord='fro'))\n",
    "    bounds_normal.append(whp_bound)\n",
    "    \n",
    "print(\"Calculating for random sparse matrices\")\n",
    "for c in c_vals:\n",
    "    print(f\"Calculating for c = {c}...\")\n",
    "    \n",
    "    A = scipy.sparse.random(1000, 1000, density=0.01).toarray()\n",
    "    B = scipy.sparse.random(1000, 1000, density=0.01).toarray()\n",
    "    \n",
    "    prob = Algorithms.get_optimal_probdist(A, B)\n",
    "    res = Algorithms.basic_matrix_mult(A, B, c=c, prob=prob)\n",
    "    \n",
    "    delta = 0.05\n",
    "    whp_bound = Algorithms.calculate_prob_bound(A=A, B=B, c=c, delta=delta)\n",
    "    \n",
    "    errors_sparse.append(np.linalg.norm(A @ B - res, ord='fro'))\n",
    "    bounds_sparse.append(whp_bound)"
   ],
   "metadata": {
    "collapsed": false,
    "ExecuteTime": {
     "end_time": "2024-01-21T12:39:53.389776Z",
     "start_time": "2024-01-21T12:31:48.358922Z"
    }
   },
   "execution_count": 40
  },
  {
   "cell_type": "code",
   "outputs": [
    {
     "data": {
      "text/plain": "<matplotlib.legend.Legend at 0x128efc100>"
     },
     "execution_count": 41,
     "metadata": {},
     "output_type": "execute_result"
    },
    {
     "data": {
      "text/plain": "<Figure size 640x480 with 1 Axes>",
      "image/png": "[encoded data removed]"
     },
     "metadata": {},
     "output_type": "display_data"
    }
   ],
   "source": [
    "# Plot results\n",
    "\n",
    "fig = plt.figure()\n",
    "yerr = np.linspace(1, 1, 100_000)\n",
    "ax = fig.add_subplot(2, 1, 1)\n",
    "ax.set_yscale('log')\n",
    "\n",
    "plt.errorbar(c_vals, errors_normal, label='error_normal')\n",
    "plt.errorbar(c_vals, bounds_normal, label='bound_normal', uplims=True, fmt='--')\n",
    "\n",
    "plt.errorbar(c_vals, errors_sparse, label='error_sparse')\n",
    "plt.errorbar(c_vals, bounds_sparse, uplims=True, label='bound_sparse', fmt=\"--\")\n",
    "\n",
    "plt.legend(loc='upper center', bbox_to_anchor=(0.5, 1.4),\n",
    "          ncol=3, fancybox=True, shadow=True)"
   ],
   "metadata": {
    "collapsed": false,
    "ExecuteTime": {
     "end_time": "2024-01-21T12:39:53.648193Z",
     "start_time": "2024-01-21T12:39:53.392452Z"
    }
   },
   "execution_count": 41
  },
  {
   "cell_type": "markdown",
   "source": [
    "### Tests for non-optimal probability distributions\n",
    "Dimension changes; $c, \\delta$ are fixed"
   ],
   "metadata": {
    "collapsed": false
   }
  },
  {
   "cell_type": "code",
   "outputs": [],
   "source": [
    "# Gather results\n",
    "dimensions = [] + list(range(50, 1001, 25))\n",
    "errors = []\n",
    "bounds = []\n",
    "\n",
    "print(\"Calculating for sparse matrices with probability distribution on A\")\n",
    "for dim in dimensions:\n",
    "    print(f\"Calculating for dimension {dim}/1000...\")\n",
    "    c = 50\n",
    "    \n",
    "    A = np.random.rand(1000, dim)\n",
    "    B = np.random.rand(dim, 1000)\n",
    "    \n",
    "    prob, beta = Algorithms.get_semiopt_probdist(A)\n",
    "    res = Algorithms.basic_matrix_mult(A, B, c=c, prob=prob)\n",
    "    \n",
    "    delta = 0.05\n",
    "    whp_bound = Algorithms.calculate_prob_bound(A=A, B=B, c=c, delta=delta, beta=beta)\n",
    "    \n",
    "    errors_normal.append(np.linalg.norm(A @ B - res, ord='fro'))\n",
    "    bounds_normal.append(whp_bound)"
   ],
   "metadata": {
    "collapsed": false
   }
  },
  {
   "cell_type": "code",
   "outputs": [
    {
     "name": "stdout",
     "output_type": "stream",
     "text": [
      "Calculating for sparse matrices with probability distribution on B\n",
      "Calculating for dimension 50/1000...\n",
      "Calculating for dimension 75/1000...\n",
      "Calculating for dimension 100/1000...\n",
      "Calculating for dimension 125/1000...\n",
      "Calculating for dimension 150/1000...\n",
      "Calculating for dimension 175/1000...\n",
      "Calculating for dimension 200/1000...\n",
      "Calculating for dimension 225/1000...\n",
      "Calculating for dimension 250/1000...\n",
      "Calculating for dimension 275/1000...\n",
      "Calculating for dimension 300/1000...\n",
      "Calculating for dimension 325/1000...\n",
      "Calculating for dimension 350/1000...\n",
      "Calculating for dimension 375/1000...\n",
      "Calculating for dimension 400/1000...\n",
      "Calculating for dimension 425/1000...\n",
      "Calculating for dimension 450/1000...\n",
      "Calculating for dimension 475/1000...\n",
      "Calculating for dimension 500/1000...\n",
      "Calculating for dimension 525/1000...\n",
      "Calculating for dimension 550/1000...\n",
      "Calculating for dimension 575/1000...\n",
      "Calculating for dimension 600/1000...\n",
      "Calculating for dimension 625/1000...\n",
      "Calculating for dimension 650/1000...\n",
      "Calculating for dimension 675/1000...\n",
      "Calculating for dimension 700/1000...\n",
      "Calculating for dimension 725/1000...\n",
      "Calculating for dimension 750/1000...\n",
      "Calculating for dimension 775/1000...\n",
      "Calculating for dimension 800/1000...\n",
      "Calculating for dimension 825/1000...\n",
      "Calculating for dimension 850/1000...\n",
      "Calculating for dimension 875/1000...\n",
      "Calculating for dimension 900/1000...\n",
      "Calculating for dimension 925/1000...\n",
      "Calculating for dimension 950/1000...\n",
      "Calculating for dimension 975/1000...\n",
      "Calculating for dimension 1000/1000...\n"
     ]
    }
   ],
   "source": [
    "# Gather results\n",
    "dimensions = [] + list(range(50, 1001, 25))\n",
    "errors = []\n",
    "bounds = []\n",
    "\n",
    "print(\"Calculating for sparse matrices with probability distribution on B\")\n",
    "for dim in dimensions:\n",
    "    print(f\"Calculating for dimension {dim}/1000...\")\n",
    "    c = 50\n",
    "    \n",
    "    A = np.random.rand(1000, dim)\n",
    "    B = np.random.rand(dim, 1000)\n",
    "    \n",
    "    prob, beta = Algorithms.get_semiopt_probdist(B)[0]\n",
    "    res = Algorithms.basic_matrix_mult(A, B, c=c, prob=prob)\n",
    "    \n",
    "    delta = 0.05\n",
    "    whp_bound = Algorithms.calculate_prob_bound(A=A, B=B, c=c, delta=delta, beta=beta)\n",
    "    \n",
    "    errors.append(np.linalg.norm(A @ B - res, ord='fro'))\n",
    "    bounds.append(whp_bound)"
   ],
   "metadata": {
    "collapsed": false,
    "ExecuteTime": {
     "end_time": "2024-01-21T20:33:14.699208Z",
     "start_time": "2024-01-21T20:30:59.713022Z"
    }
   },
   "execution_count": 3
  }
 ],
 "metadata": {
  "kernelspec": {
   "display_name": "base",
   "language": "python",
   "name": "python3"
  },
  "language_info": {
   "name": "python",
   "version": "3.11.5"
  }
 },
 "nbformat": 4,
 "nbformat_minor": 2
}
