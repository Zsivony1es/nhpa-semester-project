{
 "cells": [
  {
   "cell_type": "code",
   "execution_count": 2,
   "metadata": {
    "ExecuteTime": {
     "end_time": "2024-01-24T23:16:55.547959Z",
     "start_time": "2024-01-24T23:16:54.981168Z"
    }
   },
   "outputs": [],
   "source": [
    "import numpy as np\n",
    "import matplotlib.pyplot as plt\n",
    "\n",
    "from experiments import Experiments"
   ]
  },
  {
   "cell_type": "markdown",
   "source": [
    "![Formula for p_i](../res/p_i-formula.png \"Formula for $p_i$\")\n",
    "![Bounds](../res/bounds.png \"Bounds\")"
   ],
   "metadata": {
    "collapsed": false
   }
  },
  {
   "cell_type": "markdown",
   "source": [
    "# Experiments\n",
    "### Fixed $c$, increasing dimensions\n",
    "\n",
    "In the following section I will test the algorithm's accuracy on matrices where the matching dimensions are increased, and everything else stays constant.\n",
    "$$ $$\n",
    "Random matrices with entries in $\\[0,1\\]$, sparse (density = 0.01) and dense\n",
    "$ \\delta = 0.05 \\quad c = 50 \\quad$ For dimensions 50 -> 1000 with increment of 50."
   ],
   "metadata": {
    "collapsed": false
   }
  },
  {
   "cell_type": "code",
   "outputs": [
    {
     "name": "stdout",
     "output_type": "stream",
     "text": [
      "Calculating with options: dense, opt\n",
      "Calculating for A: (100 x 50)   B: (50 x 100)\n",
      "Calculating for A: (100 x 100)   B: (100 x 100)\n",
      "Calculating for A: (100 x 150)   B: (150 x 100)\n",
      "Calculating for A: (100 x 200)   B: (200 x 100)\n",
      "Calculating for A: (100 x 250)   B: (250 x 100)\n",
      "Calculating for A: (100 x 300)   B: (300 x 100)\n",
      "Calculating for A: (100 x 350)   B: (350 x 100)\n",
      "Calculating for A: (100 x 400)   B: (400 x 100)\n",
      "Calculating for A: (100 x 450)   B: (450 x 100)\n",
      "Calculating for A: (100 x 500)   B: (500 x 100)\n",
      "Calculating for A: (100 x 550)   B: (550 x 100)\n",
      "Calculating for A: (100 x 600)   B: (600 x 100)\n",
      "Calculating for A: (100 x 650)   B: (650 x 100)\n",
      "Calculating for A: (100 x 700)   B: (700 x 100)\n",
      "Calculating for A: (100 x 750)   B: (750 x 100)\n",
      "Calculating for A: (100 x 800)   B: (800 x 100)\n",
      "Calculating for A: (100 x 850)   B: (850 x 100)\n",
      "Calculating for A: (100 x 900)   B: (900 x 100)\n",
      "Calculating for A: (100 x 950)   B: (950 x 100)\n",
      "Calculating for A: (100 x 1000)   B: (1000 x 100)\n",
      "Calculating with options: sparse, opt\n",
      "Calculating for A: (100 x 50)   B: (50 x 100)\n",
      "Calculating for A: (100 x 100)   B: (100 x 100)\n",
      "Calculating for A: (100 x 150)   B: (150 x 100)\n",
      "Calculating for A: (100 x 200)   B: (200 x 100)\n",
      "Calculating for A: (100 x 250)   B: (250 x 100)\n",
      "Calculating for A: (100 x 300)   B: (300 x 100)\n",
      "Calculating for A: (100 x 350)   B: (350 x 100)\n",
      "Calculating for A: (100 x 400)   B: (400 x 100)\n",
      "Calculating for A: (100 x 450)   B: (450 x 100)\n",
      "Calculating for A: (100 x 500)   B: (500 x 100)\n",
      "Calculating for A: (100 x 550)   B: (550 x 100)\n",
      "Calculating for A: (100 x 600)   B: (600 x 100)\n",
      "Calculating for A: (100 x 650)   B: (650 x 100)\n",
      "Calculating for A: (100 x 700)   B: (700 x 100)\n",
      "Calculating for A: (100 x 750)   B: (750 x 100)\n",
      "Calculating for A: (100 x 800)   B: (800 x 100)\n",
      "Calculating for A: (100 x 850)   B: (850 x 100)\n",
      "Calculating for A: (100 x 900)   B: (900 x 100)\n",
      "Calculating for A: (100 x 950)   B: (950 x 100)\n",
      "Calculating for A: (100 x 1000)   B: (1000 x 100)\n",
      "Calculating with options: dense, uniform\n",
      "Calculating for A: (100 x 50)   B: (50 x 100)\n",
      "Calculating for A: (100 x 100)   B: (100 x 100)\n",
      "Calculating for A: (100 x 150)   B: (150 x 100)\n",
      "Calculating for A: (100 x 200)   B: (200 x 100)\n",
      "Calculating for A: (100 x 250)   B: (250 x 100)\n",
      "Calculating for A: (100 x 300)   B: (300 x 100)\n",
      "Calculating for A: (100 x 350)   B: (350 x 100)\n",
      "Calculating for A: (100 x 400)   B: (400 x 100)\n",
      "Calculating for A: (100 x 450)   B: (450 x 100)\n",
      "Calculating for A: (100 x 500)   B: (500 x 100)\n",
      "Calculating for A: (100 x 550)   B: (550 x 100)\n",
      "Calculating for A: (100 x 600)   B: (600 x 100)\n",
      "Calculating for A: (100 x 650)   B: (650 x 100)\n",
      "Calculating for A: (100 x 700)   B: (700 x 100)\n",
      "Calculating for A: (100 x 750)   B: (750 x 100)\n",
      "Calculating for A: (100 x 800)   B: (800 x 100)\n",
      "Calculating for A: (100 x 850)   B: (850 x 100)\n",
      "Calculating for A: (100 x 900)   B: (900 x 100)\n",
      "Calculating for A: (100 x 950)   B: (950 x 100)\n",
      "Calculating for A: (100 x 1000)   B: (1000 x 100)\n",
      "Calculating with options: sparse, uniform\n",
      "Calculating for A: (100 x 50)   B: (50 x 100)\n",
      "Calculating for A: (100 x 100)   B: (100 x 100)\n",
      "Calculating for A: (100 x 150)   B: (150 x 100)\n",
      "Calculating for A: (100 x 200)   B: (200 x 100)\n",
      "Calculating for A: (100 x 250)   B: (250 x 100)\n",
      "Calculating for A: (100 x 300)   B: (300 x 100)\n",
      "Calculating for A: (100 x 350)   B: (350 x 100)\n",
      "Calculating for A: (100 x 400)   B: (400 x 100)\n",
      "Calculating for A: (100 x 450)   B: (450 x 100)\n",
      "Calculating for A: (100 x 500)   B: (500 x 100)\n",
      "Calculating for A: (100 x 550)   B: (550 x 100)\n",
      "Calculating for A: (100 x 600)   B: (600 x 100)\n",
      "Calculating for A: (100 x 650)   B: (650 x 100)\n",
      "Calculating for A: (100 x 700)   B: (700 x 100)\n",
      "Calculating for A: (100 x 750)   B: (750 x 100)\n",
      "Calculating for A: (100 x 800)   B: (800 x 100)\n",
      "Calculating for A: (100 x 850)   B: (850 x 100)\n",
      "Calculating for A: (100 x 900)   B: (900 x 100)\n",
      "Calculating for A: (100 x 950)   B: (950 x 100)\n",
      "Calculating for A: (100 x 1000)   B: (1000 x 100)\n"
     ]
    }
   ],
   "source": [
    "# Gather results\n",
    "dimensions = [] + list(range(50, 1001, 50))\n",
    "fix_dim = 100\n",
    "\n",
    "a_dims = np.column_stack((np.full(len(dimensions), fill_value=fix_dim), dimensions))\n",
    "b_dims = np.column_stack((dimensions, np.full(len(dimensions), fill_value=fix_dim)))\n",
    "\n",
    "print(\"Calculating with options: dense, opt\")\n",
    "errors1, bounds1 = Experiments.changing_dim_const_c(a_dims=a_dims,\n",
    "                                                  b_dims=b_dims,\n",
    "                                                  c = 50,\n",
    "                                                  matrix_type = \"dense\",\n",
    "                                                  prob_dist_type = \"opt\",\n",
    "                                                  delta = 0.05)\n",
    "\n",
    "print(\"Calculating with options: sparse, opt\")\n",
    "errors2, bounds2 = Experiments.changing_dim_const_c(a_dims=a_dims,\n",
    "                                                  b_dims=b_dims,\n",
    "                                                  c = 50,\n",
    "                                                  matrix_type = \"sparse\",\n",
    "                                                  prob_dist_type = \"opt\",\n",
    "                                                  delta = 0.05)\n",
    "\n",
    "print(\"Calculating with options: dense, uniform\")\n",
    "errors3, bounds3 = Experiments.changing_dim_const_c(a_dims=a_dims,\n",
    "                                                  b_dims=b_dims,\n",
    "                                                  c = 50,\n",
    "                                                  matrix_type = \"dense\",\n",
    "                                                  prob_dist_type = \"uniform\",\n",
    "                                                  delta = 0.05)\n",
    "\n",
    "print(\"Calculating with options: sparse, uniform\")\n",
    "errors4, bounds4 = Experiments.changing_dim_const_c(a_dims=a_dims,\n",
    "                                                  b_dims=b_dims,\n",
    "                                                  c = 50,\n",
    "                                                  matrix_type = \"sparse\",\n",
    "                                                  prob_dist_type = \"uniform\",\n",
    "                                                  delta = 0.05)"
   ],
   "metadata": {
    "collapsed": false,
    "ExecuteTime": {
     "end_time": "2024-01-24T23:18:39.241488Z",
     "start_time": "2024-01-24T23:18:15.404158Z"
    }
   },
   "execution_count": 4
  },
  {
   "cell_type": "markdown",
   "source": [
    "### Fix 100x100 dimension, but c is increased"
   ],
   "metadata": {
    "collapsed": false
   }
  },
  {
   "cell_type": "code",
   "outputs": [
    {
     "name": "stdout",
     "output_type": "stream",
     "text": [
      "Calculating with options: dense, opt\n",
      "Calculating for c = 5...\n",
      "Calculating for c = 10...\n",
      "Calculating for c = 15...\n",
      "Calculating for c = 20...\n",
      "Calculating for c = 25...\n",
      "Calculating for c = 30...\n",
      "Calculating for c = 35...\n",
      "Calculating for c = 40...\n",
      "Calculating for c = 45...\n",
      "Calculating for c = 50...\n",
      "Calculating for c = 55...\n",
      "Calculating for c = 60...\n",
      "Calculating for c = 65...\n",
      "Calculating for c = 70...\n",
      "Calculating for c = 75...\n",
      "Calculating for c = 80...\n",
      "Calculating for c = 85...\n",
      "Calculating for c = 90...\n",
      "Calculating for c = 95...\n",
      "Calculating for c = 100...\n",
      "Calculating with options: sparse, opt\n",
      "Calculating for c = 5...\n",
      "Calculating for c = 10...\n",
      "Calculating for c = 15...\n",
      "Calculating for c = 20...\n",
      "Calculating for c = 25...\n",
      "Calculating for c = 30...\n",
      "Calculating for c = 35...\n",
      "Calculating for c = 40...\n",
      "Calculating for c = 45...\n",
      "Calculating for c = 50...\n",
      "Calculating for c = 55...\n",
      "Calculating for c = 60...\n",
      "Calculating for c = 65...\n",
      "Calculating for c = 70...\n",
      "Calculating for c = 75...\n",
      "Calculating for c = 80...\n",
      "Calculating for c = 85...\n",
      "Calculating for c = 90...\n",
      "Calculating for c = 95...\n",
      "Calculating for c = 100...\n",
      "Calculating with options: dense, uniform\n",
      "Calculating for c = 5...\n",
      "Calculating for c = 10...\n",
      "Calculating for c = 15...\n",
      "Calculating for c = 20...\n",
      "Calculating for c = 25...\n",
      "Calculating for c = 30...\n",
      "Calculating for c = 35...\n",
      "Calculating for c = 40...\n",
      "Calculating for c = 45...\n",
      "Calculating for c = 50...\n",
      "Calculating for c = 55...\n",
      "Calculating for c = 60...\n",
      "Calculating for c = 65...\n",
      "Calculating for c = 70...\n",
      "Calculating for c = 75...\n",
      "Calculating for c = 80...\n",
      "Calculating for c = 85...\n",
      "Calculating for c = 90...\n",
      "Calculating for c = 95...\n",
      "Calculating for c = 100...\n",
      "Calculating with options: sparse, uniform\n",
      "Calculating for c = 5...\n",
      "Calculating for c = 10...\n",
      "Calculating for c = 15...\n",
      "Calculating for c = 20...\n",
      "Calculating for c = 25...\n",
      "Calculating for c = 30...\n",
      "Calculating for c = 35...\n",
      "Calculating for c = 40...\n",
      "Calculating for c = 45...\n",
      "Calculating for c = 50...\n",
      "Calculating for c = 55...\n",
      "Calculating for c = 60...\n",
      "Calculating for c = 65...\n",
      "Calculating for c = 70...\n",
      "Calculating for c = 75...\n",
      "Calculating for c = 80...\n",
      "Calculating for c = 85...\n",
      "Calculating for c = 90...\n",
      "Calculating for c = 95...\n",
      "Calculating for c = 100...\n"
     ]
    }
   ],
   "source": [
    "# Gather results\n",
    "c_vals = np.array([] + list(range(5, 101, 5)))\n",
    "shape_a = (100, 100)\n",
    "shape_b = (100, 100)\n",
    "\n",
    "print(\"Calculating with options: dense, opt\")\n",
    "errors1, bounds1 = Experiments.const_dim_changing_c(shape_a=shape_a, \n",
    "                                                    shape_b=shape_b,\n",
    "                                                    list_c=c_vals,\n",
    "                                                    matrix_type=\"dense\",\n",
    "                                                    prob_dist_type=\"opt\",\n",
    "                                                    delta=0.01)\n",
    "\n",
    "print(\"Calculating with options: sparse, opt\")\n",
    "errors2, bounds2 = Experiments.const_dim_changing_c(shape_a=shape_a, \n",
    "                                                    shape_b=shape_b,\n",
    "                                                    list_c=c_vals,\n",
    "                                                    matrix_type=\"sparse\",\n",
    "                                                    prob_dist_type=\"opt\",\n",
    "                                                    delta=0.01)\n",
    "\n",
    "print(\"Calculating with options: dense, uniform\")\n",
    "errors3, bounds3 = Experiments.const_dim_changing_c(shape_a=shape_a, \n",
    "                                                    shape_b=shape_b,\n",
    "                                                    list_c=c_vals,\n",
    "                                                    matrix_type=\"dense\",\n",
    "                                                    prob_dist_type=\"uniform\",\n",
    "                                                    delta=0.01)\n",
    "\n",
    "print(\"Calculating with options: sparse, uniform\")\n",
    "errors4, bounds4 = Experiments.const_dim_changing_c(shape_a=shape_a, \n",
    "                                                    shape_b=shape_b,\n",
    "                                                    list_c=c_vals,\n",
    "                                                    matrix_type=\"sparse\",\n",
    "                                                    prob_dist_type=\"uniform\",\n",
    "                                                    delta=0.01)"
   ],
   "metadata": {
    "collapsed": false,
    "ExecuteTime": {
     "end_time": "2024-01-24T23:29:34.620999Z",
     "start_time": "2024-01-24T23:29:26.888612Z"
    }
   },
   "execution_count": 9
  },
  {
   "cell_type": "code",
   "outputs": [
    {
     "data": {
      "text/plain": "<matplotlib.legend.Legend at 0x11cc1b7f0>"
     },
     "execution_count": 10,
     "metadata": {},
     "output_type": "execute_result"
    },
    {
     "data": {
      "text/plain": "<Figure size 640x480 with 1 Axes>",
      "image/png": "[encoded data removed]"
     },
     "metadata": {},
     "output_type": "display_data"
    }
   ],
   "source": [
    "# Plot results\n",
    "\n",
    "fig = plt.figure()\n",
    "yerr = np.linspace(1, 1, 100_000)\n",
    "ax = fig.add_subplot(2, 1, 1)\n",
    "ax.set_yscale('log')\n",
    "\n",
    "plt.errorbar(dimensions, errors1, label='error1')\n",
    "plt.errorbar(dimensions, bounds1, label='bound1', uplims=True, fmt='--')\n",
    "\n",
    "plt.errorbar(dimensions, errors2, label='error2')\n",
    "plt.errorbar(dimensions, bounds2, uplims=True, label='bound2', fmt=\"--\")\n",
    "\n",
    "plt.errorbar(dimensions, errors3, label='error3')\n",
    "plt.errorbar(dimensions, bounds3, uplims=True, label='bound3', fmt=\"--\")\n",
    "\n",
    "plt.errorbar(dimensions, errors4, label='error4')\n",
    "plt.errorbar(dimensions, bounds4, uplims=True, label='bound4', fmt=\"--\")\n",
    "\n",
    "plt.legend(loc='upper center', bbox_to_anchor=(0.5, 1.4),\n",
    "          ncol=3, fancybox=True, shadow=True)"
   ],
   "metadata": {
    "collapsed": false,
    "ExecuteTime": {
     "end_time": "2024-01-24T23:30:06.800702Z",
     "start_time": "2024-01-24T23:30:06.605892Z"
    }
   },
   "execution_count": 10
  },
  {
   "cell_type": "markdown",
   "source": [
    "### Tests for non-optimal probability distributions\n",
    "Dimension changes; $c, \\delta$ are fixed"
   ],
   "metadata": {
    "collapsed": false
   }
  },
  {
   "cell_type": "code",
   "outputs": [],
   "source": [
    "# Gather results\n",
    "dimensions = [] + list(range(50, 1001, 25))\n",
    "errors = []\n",
    "bounds = []\n",
    "\n",
    "print(\"Calculating for sparse matrices with probability distribution on A\")\n",
    "for dim in dimensions:\n",
    "    print(f\"Calculating for dimension {dim}/1000...\")\n",
    "    c = 50\n",
    "    \n",
    "    A = np.random.rand(1000, dim)\n",
    "    B = np.random.rand(dim, 1000)\n",
    "    \n",
    "    prob, beta = Algorithms.get_semiopt_probdist(A)\n",
    "    res = Algorithms.basic_matrix_mult(A, B, c=c, prob=prob)\n",
    "    \n",
    "    delta = 0.05\n",
    "    whp_bound = Algorithms.calculate_prob_bound(A=A, B=B, c=c, delta=delta, beta=beta)\n",
    "    \n",
    "    errors_normal.append(np.linalg.norm(A @ B - res, ord='fro'))\n",
    "    bounds_normal.append(whp_bound)"
   ],
   "metadata": {
    "collapsed": false
   }
  },
  {
   "cell_type": "code",
   "outputs": [
    {
     "name": "stdout",
     "output_type": "stream",
     "text": [
      "Calculating for sparse matrices with probability distribution on B\n",
      "Calculating for dimension 50/1000...\n",
      "Calculating for dimension 75/1000...\n",
      "Calculating for dimension 100/1000...\n",
      "Calculating for dimension 125/1000...\n",
      "Calculating for dimension 150/1000...\n",
      "Calculating for dimension 175/1000...\n",
      "Calculating for dimension 200/1000...\n",
      "Calculating for dimension 225/1000...\n",
      "Calculating for dimension 250/1000...\n",
      "Calculating for dimension 275/1000...\n",
      "Calculating for dimension 300/1000...\n",
      "Calculating for dimension 325/1000...\n",
      "Calculating for dimension 350/1000...\n",
      "Calculating for dimension 375/1000...\n",
      "Calculating for dimension 400/1000...\n",
      "Calculating for dimension 425/1000...\n",
      "Calculating for dimension 450/1000...\n",
      "Calculating for dimension 475/1000...\n",
      "Calculating for dimension 500/1000...\n",
      "Calculating for dimension 525/1000...\n",
      "Calculating for dimension 550/1000...\n",
      "Calculating for dimension 575/1000...\n",
      "Calculating for dimension 600/1000...\n",
      "Calculating for dimension 625/1000...\n",
      "Calculating for dimension 650/1000...\n",
      "Calculating for dimension 675/1000...\n",
      "Calculating for dimension 700/1000...\n",
      "Calculating for dimension 725/1000...\n",
      "Calculating for dimension 750/1000...\n",
      "Calculating for dimension 775/1000...\n",
      "Calculating for dimension 800/1000...\n",
      "Calculating for dimension 825/1000...\n",
      "Calculating for dimension 850/1000...\n",
      "Calculating for dimension 875/1000...\n",
      "Calculating for dimension 900/1000...\n",
      "Calculating for dimension 925/1000...\n",
      "Calculating for dimension 950/1000...\n",
      "Calculating for dimension 975/1000...\n",
      "Calculating for dimension 1000/1000...\n"
     ]
    }
   ],
   "source": [
    "# Gather results\n",
    "dimensions = [] + list(range(50, 1001, 25))\n",
    "errors = []\n",
    "bounds = []\n",
    "\n",
    "print(\"Calculating for sparse matrices with probability distribution on B\")\n",
    "for dim in dimensions:\n",
    "    print(f\"Calculating for dimension {dim}/1000...\")\n",
    "    c = 50\n",
    "    \n",
    "    A = np.random.rand(1000, dim)\n",
    "    B = np.random.rand(dim, 1000)\n",
    "    \n",
    "    prob, beta = Algorithms.get_semiopt_probdist(B)[0]\n",
    "    res = Algorithms.basic_matrix_mult(A, B, c=c, prob=prob)\n",
    "    \n",
    "    delta = 0.05\n",
    "    whp_bound = Algorithms.calculate_prob_bound(A=A, B=B, c=c, delta=delta, beta=beta)\n",
    "    \n",
    "    errors.append(np.linalg.norm(A @ B - res, ord='fro'))\n",
    "    bounds.append(whp_bound)"
   ],
   "metadata": {
    "collapsed": false,
    "ExecuteTime": {
     "end_time": "2024-01-21T20:33:14.699208Z",
     "start_time": "2024-01-21T20:30:59.713022Z"
    }
   },
   "execution_count": 3
  }
 ],
 "metadata": {
  "kernelspec": {
   "display_name": "base",
   "language": "python",
   "name": "python3"
  },
  "language_info": {
   "name": "python",
   "version": "3.11.5"
  }
 },
 "nbformat": 4,
 "nbformat_minor": 2
}
