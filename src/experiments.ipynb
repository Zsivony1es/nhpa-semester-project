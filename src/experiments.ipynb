{
 "cells": [
  {
   "cell_type": "code",
   "execution_count": 14,
   "metadata": {
    "ExecuteTime": {
     "end_time": "2024-01-21T08:57:21.454727Z",
     "start_time": "2024-01-21T08:57:21.417891Z"
    }
   },
   "outputs": [],
   "source": [
    "import numpy as np\n",
    "import matplotlib.pyplot as plt\n",
    "import scipy\n",
    "\n",
    "from algos import Algorithms"
   ]
  },
  {
   "cell_type": "markdown",
   "source": [
    "![Formula for p_i](../res/p_i-formula.png \"Formula for $p_i$\")\n",
    "![Bounds](../res/bounds.png \"Bounds\")"
   ],
   "metadata": {
    "collapsed": false
   }
  },
  {
   "cell_type": "markdown",
   "source": [
    "# Experiments\n",
    "### Fixed $c$, increasing dimensions\n",
    "\n",
    "In the following section I will test the algorithm's accuracy on matrices where the matching dimensions are increased, and everything else stays constant.\n",
    "$$ $$\n",
    "#### Completely random matrices\n",
    "$ \\delta = 0.05 \\quad c = 50 \\quad$ For dimensions 50 -> 1000 with increment of 50."
   ],
   "metadata": {
    "collapsed": false
   }
  },
  {
   "cell_type": "code",
   "outputs": [
    {
     "name": "stdout",
     "output_type": "stream",
     "text": [
      "Calculating for random matrices\n",
      "Calculating for dimension 50/1000...\n",
      "Calculating for dimension 75/1000...\n",
      "Calculating for dimension 100/1000...\n",
      "Calculating for dimension 125/1000...\n",
      "Calculating for dimension 150/1000...\n",
      "Calculating for dimension 175/1000...\n",
      "Calculating for dimension 200/1000...\n",
      "Calculating for dimension 225/1000...\n",
      "Calculating for dimension 250/1000...\n",
      "Calculating for dimension 275/1000...\n",
      "Calculating for dimension 300/1000...\n",
      "Calculating for dimension 325/1000...\n",
      "Calculating for dimension 350/1000...\n",
      "Calculating for dimension 375/1000...\n",
      "Calculating for dimension 400/1000...\n",
      "Calculating for dimension 425/1000...\n",
      "Calculating for dimension 450/1000...\n",
      "Calculating for dimension 475/1000...\n",
      "Calculating for dimension 500/1000...\n",
      "Calculating for dimension 525/1000...\n",
      "Calculating for dimension 550/1000...\n",
      "Calculating for dimension 575/1000...\n",
      "Calculating for dimension 600/1000...\n",
      "Calculating for dimension 625/1000...\n",
      "Calculating for dimension 650/1000...\n",
      "Calculating for dimension 675/1000...\n",
      "Calculating for dimension 700/1000...\n",
      "Calculating for dimension 725/1000...\n",
      "Calculating for dimension 750/1000...\n",
      "Calculating for dimension 775/1000...\n",
      "Calculating for dimension 800/1000...\n",
      "Calculating for dimension 825/1000...\n",
      "Calculating for dimension 850/1000...\n",
      "Calculating for dimension 875/1000...\n",
      "Calculating for dimension 900/1000...\n",
      "Calculating for dimension 925/1000...\n",
      "Calculating for dimension 950/1000...\n",
      "Calculating for dimension 975/1000...\n",
      "Calculating for random sparse matrices\n",
      "Calculating for dimension 50/1000...\n"
     ]
    },
    {
     "ename": "NameError",
     "evalue": "name 'scipy' is not defined",
     "output_type": "error",
     "traceback": [
      "\u001B[0;31m---------------------------------------------------------------------------\u001B[0m",
      "\u001B[0;31mNameError\u001B[0m                                 Traceback (most recent call last)",
      "Cell \u001B[0;32mIn[13], line 30\u001B[0m\n\u001B[1;32m     27\u001B[0m \u001B[38;5;28mprint\u001B[39m(\u001B[38;5;124mf\u001B[39m\u001B[38;5;124m\"\u001B[39m\u001B[38;5;124mCalculating for dimension \u001B[39m\u001B[38;5;132;01m{\u001B[39;00mdim\u001B[38;5;132;01m}\u001B[39;00m\u001B[38;5;124m/1000...\u001B[39m\u001B[38;5;124m\"\u001B[39m)\n\u001B[1;32m     28\u001B[0m c \u001B[38;5;241m=\u001B[39m \u001B[38;5;241m50\u001B[39m\n\u001B[0;32m---> 30\u001B[0m A \u001B[38;5;241m=\u001B[39m \u001B[43mscipy\u001B[49m\u001B[38;5;241m.\u001B[39msparse\u001B[38;5;241m.\u001B[39mrandom(\u001B[38;5;241m1000\u001B[39m, dim, density\u001B[38;5;241m=\u001B[39m\u001B[38;5;241m0.01\u001B[39m)\n\u001B[1;32m     31\u001B[0m B \u001B[38;5;241m=\u001B[39m scipy\u001B[38;5;241m.\u001B[39msparse\u001B[38;5;241m.\u001B[39mrandom(dim, \u001B[38;5;241m1000\u001B[39m, density\u001B[38;5;241m=\u001B[39m\u001B[38;5;241m0.01\u001B[39m)\n\u001B[1;32m     33\u001B[0m prob \u001B[38;5;241m=\u001B[39m Algorithms\u001B[38;5;241m.\u001B[39mget_optimal_probdist(A, B)\n",
      "\u001B[0;31mNameError\u001B[0m: name 'scipy' is not defined"
     ]
    }
   ],
   "source": [
    "# Gather results\n",
    "dimensions = [] + list(range(50, 1001, 25))\n",
    "errors_normal = []\n",
    "bounds_normal = []\n",
    "errors_sparse = []\n",
    "bounds_sparse = []\n",
    "\n",
    "print(\"Calculating for random matrices\")\n",
    "for dim in dimensions:\n",
    "    print(f\"Calculating for dimension {dim}/1000...\")\n",
    "    c = 50\n",
    "    \n",
    "    A = np.random.rand(1000, dim)\n",
    "    B = np.random.rand(dim, 1000)\n",
    "    \n",
    "    prob = Algorithms.get_optimal_probdist(A, B)\n",
    "    res = Algorithms.basic_matrix_mult(A, B, c=c, prob=prob)\n",
    "    \n",
    "    delta = 0.05\n",
    "    whp_bound = Algorithms.calculate_prob_bound(A=A, B=B, c=c, delta=delta)\n",
    "    \n",
    "    errors_normal.append(np.linalg.norm(A @ B - res, ord='fro'))\n",
    "    bounds_normal.append(whp_bound)"
   ],
   "metadata": {
    "collapsed": false,
    "ExecuteTime": {
     "end_time": "2024-01-21T08:57:17.182968Z",
     "start_time": "2024-01-21T08:52:58.254187Z"
    }
   },
   "execution_count": 13
  },
  {
   "cell_type": "code",
   "outputs": [
    {
     "name": "stdout",
     "output_type": "stream",
     "text": [
      "Calculating for random sparse matrices\n",
      "Calculating for dimension 50/1000...\n",
      "Calculating for dimension 75/1000...\n",
      "Calculating for dimension 100/1000...\n",
      "Calculating for dimension 125/1000...\n",
      "Calculating for dimension 150/1000...\n",
      "Calculating for dimension 175/1000...\n",
      "Calculating for dimension 200/1000...\n",
      "Calculating for dimension 225/1000...\n",
      "Calculating for dimension 250/1000...\n",
      "Calculating for dimension 275/1000...\n",
      "Calculating for dimension 300/1000...\n",
      "Calculating for dimension 325/1000...\n",
      "Calculating for dimension 350/1000...\n",
      "Calculating for dimension 375/1000...\n",
      "Calculating for dimension 400/1000...\n",
      "Calculating for dimension 425/1000...\n",
      "Calculating for dimension 450/1000...\n",
      "Calculating for dimension 475/1000...\n",
      "Calculating for dimension 500/1000...\n",
      "Calculating for dimension 525/1000...\n",
      "Calculating for dimension 550/1000...\n",
      "Calculating for dimension 575/1000...\n",
      "Calculating for dimension 600/1000...\n",
      "Calculating for dimension 625/1000...\n",
      "Calculating for dimension 650/1000...\n",
      "Calculating for dimension 675/1000...\n",
      "Calculating for dimension 700/1000...\n",
      "Calculating for dimension 725/1000...\n",
      "Calculating for dimension 750/1000...\n",
      "Calculating for dimension 775/1000...\n",
      "Calculating for dimension 800/1000...\n",
      "Calculating for dimension 825/1000...\n",
      "Calculating for dimension 850/1000...\n",
      "Calculating for dimension 875/1000...\n",
      "Calculating for dimension 900/1000...\n",
      "Calculating for dimension 925/1000...\n",
      "Calculating for dimension 950/1000...\n",
      "Calculating for dimension 975/1000...\n"
     ]
    }
   ],
   "source": [
    "print(\"Calculating for random sparse matrices\")\n",
    "for dim in dimensions:\n",
    "    print(f\"Calculating for dimension {dim}/1000...\")\n",
    "    c = 50\n",
    "    \n",
    "    A = scipy.sparse.random(1000, dim, density=0.01).toarray()\n",
    "    B = scipy.sparse.random(dim, 1000, density=0.01).toarray()\n",
    "    \n",
    "    prob = Algorithms.get_optimal_probdist(A, B)\n",
    "    res = Algorithms.basic_matrix_mult(A, B, c=c, prob=prob)\n",
    "    \n",
    "    delta = 0.05\n",
    "    whp_bound = Algorithms.calculate_prob_bound(A=A, B=B, c=c, delta=delta)\n",
    "    \n",
    "    errors_sparse.append(np.linalg.norm(A @ B - res, ord='fro'))\n",
    "    bounds_sparse.append(whp_bound)"
   ],
   "metadata": {
    "collapsed": false,
    "ExecuteTime": {
     "end_time": "2024-01-21T09:03:18.460054Z",
     "start_time": "2024-01-21T08:59:29.382191Z"
    }
   },
   "execution_count": 16
  },
  {
   "cell_type": "code",
   "outputs": [
    {
     "data": {
      "text/plain": "<matplotlib.legend.Legend at 0x1288dfb50>"
     },
     "execution_count": 35,
     "metadata": {},
     "output_type": "execute_result"
    },
    {
     "data": {
      "text/plain": "<Figure size 640x480 with 1 Axes>",
      "image/png": "[encoded data removed]"
     },
     "metadata": {},
     "output_type": "display_data"
    }
   ],
   "source": [
    "# Plot results\n",
    "\n",
    "fig = plt.figure()\n",
    "yerr = np.linspace(1, 1, 100_000)\n",
    "ax = fig.add_subplot(2, 1, 1)\n",
    "ax.set_yscale('log')\n",
    "\n",
    "plt.errorbar(dimensions, errors_normal, label='error_normal')\n",
    "plt.errorbar(dimensions, bounds_normal, label='bound_normal', uplims=True, fmt='--')\n",
    "\n",
    "plt.errorbar(dimensions, errors_sparse, label='error_sparse')\n",
    "plt.errorbar(dimensions, bounds_sparse, uplims=True, label='bound_sparse', fmt=\"--\")\n",
    "\n",
    "plt.legend(loc='upper center', bbox_to_anchor=(0.5, 1.4),\n",
    "          ncol=3, fancybox=True, shadow=True)"
   ],
   "metadata": {
    "collapsed": false,
    "ExecuteTime": {
     "end_time": "2024-01-21T09:34:34.387832Z",
     "start_time": "2024-01-21T09:34:34.132578Z"
    }
   },
   "execution_count": 35
  }
 ],
 "metadata": {
  "kernelspec": {
   "display_name": "base",
   "language": "python",
   "name": "python3"
  },
  "language_info": {
   "name": "python",
   "version": "3.11.5"
  }
 },
 "nbformat": 4,
 "nbformat_minor": 2
}
